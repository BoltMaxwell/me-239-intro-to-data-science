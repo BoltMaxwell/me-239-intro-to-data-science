{
 "cells": [
  {
   "cell_type": "markdown",
   "metadata": {},
   "source": [
    "# Homework 7\n",
    "\n",
    "**Due: 11/22/2020 on gradescope**\n",
    "\n",
    "## References\n",
    "\n",
    "+ Lectures 12-13 (inclusive).\n",
    "\n",
    "\n",
    "## Instructions\n",
    "\n",
    "+ Type your name and email in the \"Student details\" section below.\n",
    "+ Develop the code and generate the figures you need to solve the problems using this notebook.\n",
    "+ For the answers that require a mathematical proof or derivation you can either:\n",
    "    \n",
    "    - Type the answer using the built-in latex capabilities. In this case, simply export the notebook as a pdf and upload it on gradescope; or\n",
    "    - You can print the notebook (after you are done with all the code), write your answers by hand, scan, turn your response to a single pdf, and upload on gradescope.\n",
    "\n",
    "+ The total homework points are 100. Please note that the problems are not weighed equally.\n",
    "\n",
    "**Note**: Please match all the pages corresponding to each of the questions when you submit on gradescope. "
   ]
  },
  {
   "cell_type": "markdown",
   "metadata": {},
   "source": [
    "## Student details\n",
    "\n",
    "+ **First Name:**\n",
    "+ **Last Name:**\n",
    "+ **Email:**"
   ]
  },
  {
   "cell_type": "code",
   "execution_count": null,
   "metadata": {},
   "outputs": [],
   "source": [
    "import matplotlib.pyplot as plt\n",
    "%matplotlib inline\n",
    "import numpy as np\n",
    "import pandas as pd\n",
    "import seaborn as sns\n",
    "sns.set_context('paper')\n",
    "sns.set_style('white')\n",
    "import scipy.stats as st\n",
    "# A helper function for downloading files\n",
    "import requests\n",
    "import os\n",
    "def download(url, local_filename=None):\n",
    "    \"\"\"\n",
    "    Downloads the file in the ``url`` and saves it in the current working directory.\n",
    "    \"\"\"\n",
    "    data = requests.get(url)\n",
    "    if local_filename is None:\n",
    "        local_filename = os.path.basename(url)\n",
    "    with open(local_filename, 'wb') as fd:\n",
    "        fd.write(data.content)"
   ]
  },
  {
   "cell_type": "markdown",
   "metadata": {},
   "source": [
    "# Problem 1 - Clustering Uber Pickup Data\n",
    "\n",
    "In this problem you will analyze Uber pickup data collected during April 2014 around New York City.\n",
    "The complete data are freely on [Kaggle](https://www.kaggle.com/fivethirtyeight/uber-pickups-in-new-york-city/).\n",
    "The data consist of a timestamp (which we are going to ignore), the latitude and longitude of the Uber pickup, and a base code (which we are also ignoring).\n",
    "The data file we are going to use is [uber-raw-data-apr14.csv](https://raw.githubusercontent.com/PurdueMechanicalEngineering/me-297-intro-to-data-science/master/homework/uber-raw-data-apr14.csv).\n",
    "As usual, you have to make it visible to this Jupyter notebook.\n",
    "On Google Colab, just run this:"
   ]
  },
  {
   "cell_type": "code",
   "execution_count": null,
   "metadata": {},
   "outputs": [],
   "source": [
    "url = 'https://raw.githubusercontent.com/PurdueMechanicalEngineering/me-297-intro-to-data-science/master/homework/uber-raw-data-apr14.csv'\n",
    "download(url)"
   ]
  },
  {
   "cell_type": "markdown",
   "metadata": {},
   "source": [
    "And you can load it using pandas:"
   ]
  },
  {
   "cell_type": "code",
   "execution_count": null,
   "metadata": {},
   "outputs": [],
   "source": [
    "p1_data = pd.read_csv('uber-raw-data-apr14.csv')"
   ]
  },
  {
   "cell_type": "markdown",
   "metadata": {},
   "source": [
    "Here is a text view:"
   ]
  },
  {
   "cell_type": "code",
   "execution_count": null,
   "metadata": {},
   "outputs": [],
   "source": [
    "p1_data"
   ]
  },
  {
   "cell_type": "markdown",
   "metadata": {},
   "source": [
    "As you see, there where about half a million Uber pickups during April 2014...\n",
    "Let's extract the lattitude and longitude data only (this is needed for passing them to scikit-learn algorithms).\n",
    "Here is how you can do this in pandas:"
   ]
  },
  {
   "cell_type": "code",
   "execution_count": null,
   "metadata": {},
   "outputs": [],
   "source": [
    "# Just use the column names as indices.\n",
    "# The two brackets are required because you are actually\n",
    "# passing a list of columns\n",
    "loc_data = p1_data[['Lat', 'Lon']]\n",
    "loc_data"
   ]
  },
  {
   "cell_type": "markdown",
   "metadata": {},
   "source": [
    "Let's also visualize these points:"
   ]
  },
  {
   "cell_type": "code",
   "execution_count": null,
   "metadata": {},
   "outputs": [],
   "source": [
    "fig, ax = plt.subplots(dpi=150)\n",
    "ax.scatter(loc_data.Lon, loc_data.Lat, s=0.01)\n",
    "# ``s=0.01`` specifies the size. I am using a small size because\n",
    "# these are too many points to visualize\n",
    "ax.set_xlabel('Longitude')\n",
    "ax.set_ylabel('Latitude');"
   ]
  },
  {
   "cell_type": "markdown",
   "metadata": {},
   "source": [
    "This is nice, but it would be even nicer if we had a map of New York City on the background.\n",
    "We can make such a map on [www.openstreetmap.org](https://www.openstreetmap.org/export#map=11/40.7855/-73.8964).\n",
    "We just need to have a box of longitude's and latitudes that overlaps with our data.\n",
    "Here is how to get such a *bounding box*:"
   ]
  },
  {
   "cell_type": "code",
   "execution_count": null,
   "metadata": {},
   "outputs": [],
   "source": [
    "box = ((loc_data.Lon.min(), loc_data.Lon.max(),\n",
    "        loc_data.Lat.min(), loc_data.Lat.max()))\n",
    "box"
   ]
  },
  {
   "cell_type": "markdown",
   "metadata": {},
   "source": [
    "I have already extracted this picture for you and you can find it [here](https://github.com/PredictiveScienceLab/data-analytics-se/blob/master/homework/ny_map.png).\n",
    "As always, it needs to be visible from the Jupyter notebook.\n",
    "On Google Colab run:"
   ]
  },
  {
   "cell_type": "code",
   "execution_count": null,
   "metadata": {},
   "outputs": [],
   "source": [
    "url = 'https://github.com/PurdueMechanicalEngineering/me-297-intro-to-data-science/raw/master/homework/ny_map.png'\n",
    "download(url)"
   ]
  },
  {
   "cell_type": "markdown",
   "metadata": {},
   "source": [
    "If you have it at the right place, you should be able to see the image here:\n",
    "\n",
    "![New York City Map](ny_map.png)"
   ]
  },
  {
   "cell_type": "markdown",
   "metadata": {},
   "source": [
    "Now let's load the image as a matrix:"
   ]
  },
  {
   "cell_type": "code",
   "execution_count": null,
   "metadata": {},
   "outputs": [],
   "source": [
    "ny_map = plt.imread('ny_map.png')"
   ]
  },
  {
   "cell_type": "markdown",
   "metadata": {},
   "source": [
    "And we can visualize it with ``plt.imshow`` and draw the Uber pickups on top of it.\n",
    "Here is how:"
   ]
  },
  {
   "cell_type": "code",
   "execution_count": null,
   "metadata": {},
   "outputs": [],
   "source": [
    "fig, ax = plt.subplots(dpi=600)\n",
    "ax.scatter(loc_data.Lon, loc_data.Lat, zorder=1, alpha= 0.5, c='b', s=0.001)\n",
    "ax.set_xlim(box[0],box[1])\n",
    "ax.set_ylim(box[2],box[3])\n",
    "ax.imshow(ny_map, zorder=0, extent=box, aspect= 'equal')\n",
    "ax.set_xlabel('Longitude')\n",
    "ax.set_ylabel('Latitude');"
   ]
  },
  {
   "cell_type": "markdown",
   "metadata": {},
   "source": [
    "Because we have over half a million data points, machine learning algorithms may be a bit slow.\n",
    "So, as you develop your code use use only 50K observations.\n",
    "Once you have a stable version of your code, modify the following code segment to make use of the entire dataset."
   ]
  },
  {
   "cell_type": "code",
   "execution_count": null,
   "metadata": {},
   "outputs": [],
   "source": [
    "# While your are developing your code use this:\n",
    "p1_train_data = loc_data[:100000]\n",
    "# When you have a stable code, use this:\n",
    "# p1_train_data = loc_data"
   ]
  },
  {
   "cell_type": "markdown",
   "metadata": {},
   "source": [
    "## Part A - Splitting New York City into Subregions\n",
    "\n",
    "Suppose that you are assigned the task of splitting New York City into operating subregions with pretty much equal demand.\n",
    "When a pickup is requested in each subregion only the drivers in that region are called.\n",
    "Note that this can quickly become a very difficult problem very quickly.\n",
    "We are not looking for the best possible answer here.\n",
    "This would require posing and solving a suitable optimization problem.\n",
    "We are looking for a data-informed solution that is compatible with common sense.\n",
    "\n",
    "Do (at least) the following:\n",
    "+ Use Kmeans clustering on the pickup data with different number of clusters;\n",
    "+ Visualize the labels of the clusters on the map using different colors (see the hands-on activities);\n",
    "+ Visualize the centers of the discovered Kmeans clusters (in red color);\n",
    "+ Use your common sense, e.g., make sure that you have enough clusters so that no region crosses the water (even if it is possible the drivers may have to pay tolls to cross). If it is impossible to get perfect results simply by Kmeans, feel free to ignore a small number of outliers as they could be handled manually;\n",
    "+ Use [MiniBatchKMeans](https://scikit-learn.org/stable/modules/generated/sklearn.cluster.MiniBatchKMeans.html#sklearn.cluster.MiniBatchKMeans) which is an much faster version of Kmeans suitable for large datasets (>10K observations);\n",
    "\n",
    "Answer with as many text blocks and code blocks as you like right below."
   ]
  },
  {
   "cell_type": "code",
   "execution_count": null,
   "metadata": {},
   "outputs": [],
   "source": [
    "# Your code here"
   ]
  },
  {
   "cell_type": "markdown",
   "metadata": {},
   "source": [
    "## Part B - Create a Stochastic Model of Pickups\n",
    "\n",
    "One of the key ingredients for a more sophisticated approach to optimizing the operations of Uber would involve the construction of a stochastic model of the demand for pickups.\n",
    "The ideal model for this problem is the [Poisson Point Process](https://en.wikipedia.org/wiki/Poisson_point_process).\n",
    "However, we are going to do something simpler, using the Gaussian mixture model and a Poisson random variable.\n",
    "The model will not have a time component, but it will allow us to sample the number and locations of pickups during a typical month.\n",
    "We will guide you through the process of constructing this model."
   ]
  },
  {
   "cell_type": "markdown",
   "metadata": {},
   "source": [
    "### Subpart B.I - Random variable capturing number of monthly pickups\n",
    "\n",
    "Find the rate of monthly pickups (ignore the fact that months may differ by a few days) and use it to define a Poisson random variable corresponding to the monthly number of pickups.\n",
    "Use ``scipy.stats.poisson`` to initialize this random variable. Sample from it 10,000 times and plot the histogram of the samples to get a feeling about the corresponding probability mass function."
   ]
  },
  {
   "cell_type": "code",
   "execution_count": null,
   "metadata": {},
   "outputs": [],
   "source": [
    "# Your code here"
   ]
  },
  {
   "cell_type": "markdown",
   "metadata": {},
   "source": [
    "### Subpart B.II - Estimate the spatial density of pickups\n",
    "\n",
    "Fit a Gaussian Mixture model to the pickup data.\n",
    "**Do not use the Bayesian Information Criterion** to decide how many components to keep.\n",
    "This would take quite a bit of time for this problem. Simply use 40 mixture components.\n",
    "Plot the contour of the logarithm of the probability density on the New York City map."
   ]
  },
  {
   "cell_type": "code",
   "execution_count": null,
   "metadata": {},
   "outputs": [],
   "source": [
    "# Your code here"
   ]
  },
  {
   "cell_type": "markdown",
   "metadata": {},
   "source": [
    "### Subpart B.III - Sample some random months of pickups\n",
    "\n",
    "Now that you have a model that gives you the number of pickups and a model that allows you to sample a pickup location, sample five different datasets (number of pickups and location of each pick) from the combined model and visualize them on the New York map.\n",
    "\n",
    "**Hint:** Don't get obsessed with making the model perfect. It's okay if a few of the pickups are on water..."
   ]
  },
  {
   "cell_type": "code",
   "execution_count": null,
   "metadata": {},
   "outputs": [],
   "source": [
    "# Your code here"
   ]
  },
  {
   "cell_type": "markdown",
   "metadata": {},
   "source": [
    "# Problem 2 - Counting Celestial Objects\n",
    "\n",
    "Consider [this picture](https://github.com/PurdueMechanicalEngineering/me-297-intro-to-data-science/raw/master/datasets/galaxies.png) of a patch of sky taken by the [Hubble Space Telescope](https://www.nasa.gov/mission_pages/hubble/story/index.html):"
   ]
  },
  {
   "cell_type": "code",
   "execution_count": null,
   "metadata": {},
   "outputs": [],
   "source": [
    "url = 'https://github.com/PurdueMechanicalEngineering/me-297-intro-to-data-science/raw/master/homework/galaxies.png'\n",
    "download(url)"
   ]
  },
  {
   "cell_type": "markdown",
   "metadata": {},
   "source": [
    "![galaxies](galaxies.png)"
   ]
  },
  {
   "cell_type": "markdown",
   "metadata": {},
   "source": [
    "This picture includes many galaxies, but also some starts.\n",
    "We are going to create a machine learning model capable of counting the number of objects in such images.\n",
    "Our model is not going to be able to differentiate between the different types of objects, and it will not be very accurate, but it does form the basis of more sophisticated approaches.\n",
    "The idea is as follows:\n",
    "+ Convert the picture to points sampled according to the intensity of light.\n",
    "+ Apply Gaussian mixture on the resulting points.\n",
    "+ Use the Bayesian Information Criterion to identify the number of components in the picture.\n",
    "+ Associate the number of components with the actual number of celestial objects.\n",
    "\n",
    "I will set you up with the first step. You will have to do the last three."
   ]
  },
  {
   "cell_type": "markdown",
   "metadata": {},
   "source": [
    "We are going to load the image with the [Python Imaging Library (PIL)](https://en.wikipedia.org/wiki/Python_Imaging_Library) which allows us to apply a few basic transformations to the image:"
   ]
  },
  {
   "cell_type": "code",
   "execution_count": null,
   "metadata": {},
   "outputs": [],
   "source": [
    "from PIL import Image\n",
    "hubble_image = Image.open('galaxies.png')\n",
    "# here is how to see the image\n",
    "hubble_image"
   ]
  },
  {
   "cell_type": "markdown",
   "metadata": {},
   "source": [
    "Now we are going to convert it to gray scale and crop it to make the problem a little bit easier:"
   ]
  },
  {
   "cell_type": "code",
   "execution_count": null,
   "metadata": {},
   "outputs": [],
   "source": [
    "img = hubble_image.convert('L').crop((100, 100, 300, 300))\n",
    "img"
   ]
  },
  {
   "cell_type": "markdown",
   "metadata": {},
   "source": [
    "Remember that black-and white images are matrices:"
   ]
  },
  {
   "cell_type": "code",
   "execution_count": null,
   "metadata": {},
   "outputs": [],
   "source": [
    "img_ar = np.array(img)\n",
    "img_ar"
   ]
  },
  {
   "cell_type": "markdown",
   "metadata": {},
   "source": [
    "The minimum number if $0$ corresponding to black and the maximum number is 255 corresponding to white.\n",
    "Anything in between is some shade of gray."
   ]
  },
  {
   "cell_type": "markdown",
   "metadata": {},
   "source": [
    "Now, imagine that each pixel is associated with some cordinates.\n",
    "Without loss of generality, let's assume that each pixel is some coordinate in $[0,1]^2$.\n",
    "We will loop over each of the pixels and sample its coordinates in a way that increases with increasing light intensity.\n",
    "To achieve this, we will pass the intensity values of each pixels through a sigmoid with parameters that can be tuned.\n",
    "Here is this sigmoid:"
   ]
  },
  {
   "cell_type": "code",
   "execution_count": null,
   "metadata": {},
   "outputs": [],
   "source": [
    "intensities = np.linspace(0, 255, 255)\n",
    "fig, ax = plt.subplots(dpi=150)\n",
    "alpha = 0.1\n",
    "beta = 255 / 3\n",
    "ax.plot(intensities, 1.0 / (1.0 + np.exp(-alpha * (intensities - beta))));\n",
    "ax.set_xlabel('Light intensities')\n",
    "ax.set_ylabel('Probability of sampling the pixel coordinates');"
   ]
  },
  {
   "cell_type": "markdown",
   "metadata": {},
   "source": [
    "And here is the code that samples the pixel coordinates.\n",
    "I am organizing it into a function because we may want to use it with different pictures:"
   ]
  },
  {
   "cell_type": "code",
   "execution_count": null,
   "metadata": {},
   "outputs": [],
   "source": [
    "def sample_pixel_coords(img, alpha, beta):\n",
    "    \"\"\"\n",
    "    Samples pixel coordinates based on a probability defined as the sigmoid of the intensity.\n",
    "    \n",
    "    Arguments:\n",
    "    \n",
    "        img    -     The gray scale pixture from which we sample as an array\n",
    "        alpha     -     The scale of the sigmoid\n",
    "        beta      -     The offset of the sigmoid\n",
    "    \"\"\"\n",
    "    img_ar = np.array(img)\n",
    "    x = np.linspace(0, 1, img_ar.shape[0])\n",
    "    y = np.linspace(0, 1, img_ar.shape[1])\n",
    "    X, Y = np.meshgrid(x, y)\n",
    "    img_to_locs = []\n",
    "    # Loop over pixels\n",
    "    for i in range(img_ar.shape[1]):\n",
    "        for j in range(img_ar.shape[0]):\n",
    "            # Calculate the probability of the pixel by looking at each\n",
    "            # light intensity\n",
    "            prob = 1.0 / (1.0 + np.exp(-alpha * (img_ar[j, i] - beta)))\n",
    "            # Pick a uniform random number\n",
    "            u = np.random.rand()\n",
    "            # If u is smaller than the desired probability,\n",
    "            # the consider the coordinates of the pixel sampled\n",
    "            if u <= prob:\n",
    "                img_to_locs.append((Y[i, j], X[-i-1, -j-1]))\n",
    "    # Turn img_to_locs into a numpy array\n",
    "    img_to_locs = np.array(img_to_locs)\n",
    "    return img_to_locs"
   ]
  },
  {
   "cell_type": "markdown",
   "metadata": {},
   "source": [
    "Let's test the code:"
   ]
  },
  {
   "cell_type": "code",
   "execution_count": null,
   "metadata": {},
   "outputs": [],
   "source": [
    "locs = sample_pixel_coords(img, alpha=0.1, beta=200)\n",
    "fig, ax = plt.subplots(dpi=150)\n",
    "ax.imshow(img, extent=((0, 1, 0, 1)), zorder=0)\n",
    "ax.scatter(locs[:, 0], locs[:, 1], zorder=1, alpha=0.5, c='b', s=1);"
   ]
  },
  {
   "cell_type": "markdown",
   "metadata": {},
   "source": [
    "Note that by playing with $\\alpha$ and $\\beta$ you can make the whole thing more or less sensitive to the light intensity."
   ]
  },
  {
   "cell_type": "code",
   "execution_count": null,
   "metadata": {},
   "outputs": [],
   "source": [
    "from sklearn.mixture import GaussianMixture\n",
    "\n",
    "def count_objs(img, alpha, beta, nc_min=1, nc_max=50):\n",
    "    \"\"\"\n",
    "    Counts objects in image.\n",
    "    \n",
    "    Arguments:\n",
    "        img       -     The image\n",
    "        alpha     -     The scale of the sigmoid\n",
    "        beta      -     The offset of the sigmoid\n",
    "        nc_min    -     The minimum number of components to consider\n",
    "        nc_max    -     The maximum number of components to consider\n",
    "    \"\"\"\n",
    "    locs = sample_pixel_coords(img, alpha, beta)\n",
    "    # Use BIC to search for the best GaussianMixture model\n",
    "    # with components between nc_min and nc_max \n",
    "    # Set the following variables\n",
    "    best_nc = NotImplemented('Set this equal to the number of components of the best model.')\n",
    "    best_model = NotImplemented('Set this equatl to the best model.')\n",
    "    return best_nc, best_model, locs"
   ]
  },
  {
   "cell_type": "markdown",
   "metadata": {},
   "source": [
    "Once you have completed the code, try it out the following images.\n",
    "Feel free to play with $\\alpha$ and $\\beta$ to improve the performance.\n",
    "**Do not try to make a perfect model. To do so, we would have to go beyond the Gaussian mixture model. This is just a homework problem.**"
   ]
  },
  {
   "cell_type": "code",
   "execution_count": null,
   "metadata": {},
   "outputs": [],
   "source": [
    "objs, model, locs = count_objs(img, alpha=1.0, beta=200)\n",
    "fig, ax = plt.subplots(dpi=150)\n",
    "ax.imshow(img, extent=((0, 1, 0, 1)))\n",
    "for i in range(model.means_.shape[0]):\n",
    "    ax.plot(model.means_[i, 0], model.means_[i, 1], 'rx', \n",
    "            markersize=10.0 * model.weights_.shape[0] * model.weights_[i])\n",
    "ax.scatter(locs[:, 0], locs[:, 1], zorder=1, alpha=0.5, c='b', s=1)\n",
    "ax.set_title('Counted {0:d} objects!'.format(objs));"
   ]
  },
  {
   "cell_type": "markdown",
   "metadata": {},
   "source": [
    "Try this one:"
   ]
  },
  {
   "cell_type": "code",
   "execution_count": null,
   "metadata": {},
   "outputs": [],
   "source": [
    "img = hubble_image.convert('L').crop((200, 200, 400, 400))\n",
    "objs, model, locs = count_objs(img, alpha=.1, beta=250)\n",
    "fig, ax = plt.subplots(dpi=150)\n",
    "ax.imshow(img, extent=((0, 1, 0, 1)))\n",
    "for i in range(model.means_.shape[0]):\n",
    "    ax.plot(model.means_[i, 0], model.means_[i, 1], 'rx', \n",
    "            markersize=10.0 * model.weights_.shape[0] * model.weights_[i])\n",
    "ax.scatter(locs[:, 0], locs[:, 1], zorder=1, alpha=0.5, c='b', s=1)\n",
    "ax.set_title('Counted {0:d} objects!'.format(objs));"
   ]
  },
  {
   "cell_type": "markdown",
   "metadata": {},
   "source": [
    "And try this one:"
   ]
  },
  {
   "cell_type": "code",
   "execution_count": null,
   "metadata": {},
   "outputs": [],
   "source": [
    "img = hubble_image.convert('L').crop((300, 300, 500, 500))\n",
    "objs, model, locs = count_objs(img, alpha=.1, beta=250)\n",
    "fig, ax = plt.subplots(dpi=150)\n",
    "ax.imshow(img, extent=((0, 1, 0, 1)))\n",
    "for i in range(model.means_.shape[0]):\n",
    "    ax.plot(model.means_[i, 0], model.means_[i, 1], 'rx', \n",
    "            markersize=10.0 * model.weights_.shape[0] * model.weights_[i])\n",
    "ax.scatter(locs[:, 0], locs[:, 1], zorder=1, alpha=0.5, c='b', s=1)\n",
    "ax.set_title('Counted {0:d} objects!'.format(objs));"
   ]
  },
  {
   "cell_type": "markdown",
   "metadata": {},
   "source": [
    "# Problem 3 - Quantifying Uncertainties in Steel Magnetic Properties\n",
    "\n",
    "The magnetic properties of steel are captured in the so called [$B-H$ curve](https://en.wikipedia.org/wiki/Saturation_(magnetic)) which connects the magnetic field $H$ to the magnetic flux density $B$.\n",
    "The shape of this curve depends on the manufacturing process of the steel. As a result the $B-H$ differs across different suppliers but alos across time for the same supplier.\n",
    "\n",
    "Let's use some real manufacturer data to visualize these differences.\n",
    "The data are [here](https://github.com/PurdueMechanicalEngineering/me-297-intro-to-data-science/raw/master/homework/B_data.csv).\n",
    "Start by downloading the data:"
   ]
  },
  {
   "cell_type": "code",
   "execution_count": null,
   "metadata": {},
   "outputs": [],
   "source": [
    "url = 'https://github.com/PurdueMechanicalEngineering/me-297-intro-to-data-science/raw/master/homework/B_data.csv'\n",
    "download(url)"
   ]
  },
  {
   "cell_type": "markdown",
   "metadata": {},
   "source": [
    "Let's load and visualize the data:"
   ]
  },
  {
   "cell_type": "code",
   "execution_count": null,
   "metadata": {},
   "outputs": [],
   "source": [
    "bh_data = np.loadtxt('B_data.csv')\n",
    "fig, ax = plt.subplots(dpi=150)\n",
    "ax.plot(bh_data.T, 'r', lw=0.1)\n",
    "ax.set_xlabel('Index $j$')\n",
    "ax.set_ylabel('$B$ (T)');"
   ]
  },
  {
   "cell_type": "markdown",
   "metadata": {},
   "source": [
    "The dimensions of tha data are:"
   ]
  },
  {
   "cell_type": "code",
   "execution_count": null,
   "metadata": {},
   "outputs": [],
   "source": [
    "bh_data.shape"
   ]
  },
  {
   "cell_type": "markdown",
   "metadata": {},
   "source": [
    "This, we have 200 observations of B-H curves each one consists of 1,500 dimensions.\n",
    "Our goal is to build a stochastic model of B-H curves.\n",
    "We did the same thing in Problem 5 of Homework 2.\n",
    "Now we are going to do it better since we are going to use Principal Component Analysis to reduce the dimensionality of the data.\n",
    "Do the following:\n",
    "+ Use PCA to reduce the dimensionality of the data. Make sure that you follow the same routine we followed in the hands-on activity\n",
    "    - separate into training and validation datasets\n",
    "    - perform PCA on the training dataset\n",
    "    - visualize the explained variance as a function of the number of components and figure out how many components you need to keep so that you capture 98% of the variance of the data\n",
    "    - visualize the mean and the first three eigenvectors\n",
    "    - visualize the reconstruction error on some points of the validation set and make sure that you have enough PCA components so that it is negligible\n",
    "    - do the scatter plot of the two first principal components of the training data\n",
    "    - use a Gaussian mixture model to find the density of the principal components you get (use the BIC to determine the number of Gaussian mixture components)\n",
    "    \n",
    "Once you have done all the above, demonstrate the resulting stochastic model by sampling from it 10 times, i.e., sample from the mixture the principal components, reconstruct the 1,500 dimensional vector of B's, and plot it as a curve."
   ]
  },
  {
   "cell_type": "code",
   "execution_count": null,
   "metadata": {},
   "outputs": [],
   "source": [
    "# Your code and text here"
   ]
  }
 ],
 "metadata": {
  "anaconda-cloud": {},
  "kernelspec": {
   "display_name": "Python 3",
   "language": "python",
   "name": "python3"
  },
  "language_info": {
   "codemirror_mode": {
    "name": "ipython",
    "version": 3
   },
   "file_extension": ".py",
   "mimetype": "text/x-python",
   "name": "python",
   "nbconvert_exporter": "python",
   "pygments_lexer": "ipython3",
   "version": "3.7.7"
  },
  "latex_envs": {
   "bibliofile": "biblio.bib",
   "cite_by": "apalike",
   "current_citInitial": 1,
   "eqLabelWithNumbers": true,
   "eqNumInitial": 0
  }
 },
 "nbformat": 4,
 "nbformat_minor": 2
}
