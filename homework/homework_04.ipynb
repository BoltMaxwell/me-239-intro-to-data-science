{
 "cells": [
  {
   "cell_type": "markdown",
   "metadata": {},
   "source": [
    "# Homework 4\n",
    "\n",
    "**Due 10/11/2020.**\n",
    "\n",
    "\n",
    "## References\n",
    "\n",
    "+ Lecture 7.\n",
    "\n",
    "## Instructions\n",
    "\n",
    "+ Type your name and email in the \"Student details\" section below.\n",
    "+ Develop the code and generate the figures you need to solve the problems using this notebook.\n",
    "+ For the answers that require a mathematical proof or derivation you can either:\n",
    "    \n",
    "    - Type the answer using the built-in latex capabilities. In this case, simply export the notebook as a pdf and upload it on gradescope; or\n",
    "    - You can print the notebook (after you are done with all the code), write your answers by hand, scan, turn your response to a single pdf, and upload on gradescope.\n",
    "\n",
    "**Note**: \n",
    "+ Please match all the pages corresponding to each of the questions when you submit on gradescope. \n",
    "\n",
    "**Important:**\n",
    "If you are running the notebook on Google Colab make sure you make a copy on your Google Drive so that you can resume your work later. To do this click on \"File->Save a copy in Drive.\" Rename the copy as you wish by clicking on the filename you see on the very top. Then make sure you save regularly. If you close your browser, you can resume your work by going to your Google Drive and clicking on the notebook. You can find the notebooks the folder \"My Drive/Colab Notebooks.\""
   ]
  },
  {
   "cell_type": "markdown",
   "metadata": {},
   "source": [
    "## Student details\n",
    "\n",
    "+ **First Name:**\n",
    "+ **Last Name:**\n",
    "+ **Email:**"
   ]
  },
  {
   "cell_type": "code",
   "execution_count": null,
   "metadata": {},
   "outputs": [],
   "source": [
    "# Here are some modules that you may need - please run this block of code:\n",
    "import matplotlib.pyplot as plt\n",
    "%matplotlib inline\n",
    "import seaborn as sns\n",
    "sns.set_context('talk')\n",
    "import numpy as np\n",
    "import scipy\n",
    "import scipy.stats as st"
   ]
  },
  {
   "cell_type": "markdown",
   "metadata": {},
   "source": [
    "## Problem 1\n",
    "\n",
    "This is a classic uncertainty propagation problem that you will have to solve using Monte Carlo sampling.\n",
    "Consider the following stochastic harmonic oscillator:\n",
    "$$\n",
    "\\begin{array}{ccc}\n",
    "\\ddot{y} + 2 \\zeta \\omega(X) \\dot{y} + \\omega^2(X)y &=& 0,\\\\\n",
    "y(0) &=& y_0(X),\\\\\n",
    "\\dot{y}(0) &=& v_0(X),\n",
    "\\end{array}\n",
    "$$\n",
    "where:\n",
    "+ $X = (X_1, X_2, X_3)$,\n",
    "+ $X_i \\sim N(0, 1)$,\n",
    "+ $\\omega(X) = 2\\pi + X_1$, \n",
    "+ $\\zeta = 0.01$,\n",
    "+ $y_0(X) = 1+ 0.1 X_2$, and\n",
    "+ $v_0 = 0.1 X_3$.\n",
    "\n",
    "In words, this stochastic harmonic oscillator has an uncertain natural frequency and uncertain initial conditions.\n",
    "\n",
    "Our goal is to propagate uncertainty through this dynamical system, i.e., estimate the mean and variance of its solution.\n",
    "A solver for this dynamical system is given below:"
   ]
  },
  {
   "cell_type": "code",
   "execution_count": null,
   "metadata": {},
   "outputs": [],
   "source": [
    "class Solver(object):\n",
    "    def __init__(self, nt=100, T=5):\n",
    "        \"\"\"\n",
    "        This is the initializer of the class.\n",
    "        \n",
    "        Arguments:\n",
    "            nt - The number of timesteps.\n",
    "            T  - The final time.\n",
    "        \"\"\"\n",
    "        self.nt = nt\n",
    "        self.T = T\n",
    "        self.t = np.linspace(0, T, nt) # The timesteps on which we will get the solution\n",
    "        # The following are not essential, but they are convenient\n",
    "        self.num_input = 3             # The number of inputs the class accepts\n",
    "        self.num_output = nt           # The number of outputs the class returns\n",
    "        \n",
    "    def __call__(self, x):\n",
    "        \"\"\"\n",
    "        This special class method emulates a function call.\n",
    "        \n",
    "        Arguments:\n",
    "            x - A 1D numpy array with 3 elements. This represents the stochastic input x = (x1, x2, x3).\n",
    "        \"\"\"\n",
    "        ##uncertain quantities \n",
    "        x1 = x[0]\n",
    "        x2 = x[1]\n",
    "        x3 = x[2]\n",
    "        \n",
    "        #ODE parameters \n",
    "        omega = 2*np.pi + x1 \n",
    "        y10 = 1 + 0.1*x2\n",
    "        y20 = 0.1*x3\n",
    "        y0 = np.array([y10, y20])   #initial conditions \n",
    "        \n",
    "        #coefficient matrix \n",
    "        zeta = 0.01\n",
    "        k = omega**2    ##spring constant\n",
    "        c = 2*zeta*omega   ##damping coeff. \n",
    "        C = np.array([[0, 1],[-k, -c]])\n",
    "        \n",
    "        #RHS of the ODE system\n",
    "        def rhs(y, t):\n",
    "            return np.dot(C, y)\n",
    "        \n",
    "        y = scipy.integrate.odeint(rhs, y0, self.t)\n",
    "        \n",
    "        return y"
   ]
  },
  {
   "cell_type": "markdown",
   "metadata": {},
   "source": [
    "Let's plot a few samples of the forward model to demonstrate how the solver works."
   ]
  },
  {
   "cell_type": "code",
   "execution_count": null,
   "metadata": {},
   "outputs": [],
   "source": [
    "# 1. Create the solver object\n",
    "solver = Solver()\n",
    "fig1, ax1 = plt.subplots()\n",
    "ax1.set_xlabel('$t$ (Time)')\n",
    "ax1.set_ylabel('$y(t)$ (Position)')\n",
    "fig2, ax2 = plt.subplots()\n",
    "ax2.set_xlabel('$t$ (Time)')\n",
    "ax2.set_ylabel('$\\dot{y}(t)$ (Velocity)')\n",
    "for i in range(2):\n",
    "    # Sample the random inputs (they are just standard normal)\n",
    "    x = np.random.randn(solver.num_input) # solver.num_input is just 3\n",
    "    # Evaluate the solver response\n",
    "    y = solver(x) # This returns an (num timesteps) x (num states) array (100 x 2 here)\n",
    "    # Plot the sample\n",
    "    ax1.plot(solver.t, y[:, 0])\n",
    "    ax2.plot(solver.t, y[:, 1], label='Sample {0:d}'.format(i+1))\n",
    "plt.legend(loc=True)"
   ]
  },
  {
   "cell_type": "markdown",
   "metadata": {},
   "source": [
    "For your convenience, here is code that takes many samples of the solver at once:"
   ]
  },
  {
   "cell_type": "code",
   "execution_count": null,
   "metadata": {},
   "outputs": [],
   "source": [
    "def take_samples_from_solver(num_samples):\n",
    "    \"\"\"\n",
    "    Takes ``num_samples`` from the ODE solver.\n",
    "    \n",
    "    Returns them in an array of the form: ``num_samples x 100 x 2`` (100 timesteps, 2 states (position, velocity))\n",
    "    \"\"\"\n",
    "    samples = np.ndarray((num_samples, 100, 2))\n",
    "    for i in range(num_samples):\n",
    "        samples[i, :, :] = solver(np.random.randn(solver.num_input))\n",
    "    return samples"
   ]
  },
  {
   "cell_type": "markdown",
   "metadata": {},
   "source": [
    "It works like this:"
   ]
  },
  {
   "cell_type": "code",
   "execution_count": null,
   "metadata": {},
   "outputs": [],
   "source": [
    "samples = take_samples_from_solver(50)\n",
    "print(samples.shape)\n",
    "print(samples)"
   ]
  },
  {
   "cell_type": "markdown",
   "metadata": {},
   "source": [
    "### Part A \n",
    "\n",
    "Take 1000 samples of the solver output and plot the estimated mean position and velocity as a function of time."
   ]
  },
  {
   "cell_type": "code",
   "execution_count": null,
   "metadata": {},
   "outputs": [],
   "source": [
    "samples = take_samples_from_solver(1000)\n",
    "# Sampled positions are: samples[:, :, 0]\n",
    "# Sampled velocities are: samples[:, :, 1]\n",
    "# Sampled position at the 10th timestep is: samples[:, 9, 0]\n",
    "# etc.\n",
    "\n",
    "# Your code here"
   ]
  },
  {
   "cell_type": "markdown",
   "metadata": {},
   "source": [
    "### Part B\n",
    "\n",
    "Monte Carlo produces a slightly different result every time you run it. This is epistemic uncertainty because of the finite number of samples used. Visualize this epistemic uncertainty about the mean response at $t=5$s as a function of the number of samples. To achieve this you need to rerun your Monte Carlo estimator for the mean response at $t=5$s many times, say 100 times and visualize each one of the samples you take.\n",
    "\n",
    "**Solution**:"
   ]
  },
  {
   "cell_type": "code",
   "execution_count": null,
   "metadata": {},
   "outputs": [],
   "source": [
    "# Your code here"
   ]
  },
  {
   "cell_type": "markdown",
   "metadata": {},
   "source": [
    "### Part C\n",
    "Repeat part A and B for the squared response.\n",
    "That is, do exactly the same thing as above, but consider $y^2(t)$ and $\\dot{y}^2(t)$ instead of $y(t)$ and $\\dot{y}(t)$.\n",
    "How many samples do you need to estimate the mean squared response at $t=5$s with negligible epistemic uncertainty?\n",
    "\n",
    "**Solution**:"
   ]
  },
  {
   "cell_type": "code",
   "execution_count": null,
   "metadata": {},
   "outputs": [],
   "source": [
    "# Your code here"
   ]
  },
  {
   "cell_type": "markdown",
   "metadata": {},
   "source": [
    "### Part D\n",
    "\n",
    "Now that you know how many samples you need to estimate the mean of the response and the square response, use the formula:\n",
    "$$\n",
    "\\mathbb{V}[y(t)] = \\mathbb{E}[y^2(t)] - \\left(\\mathbb{E}[y(t)]\\right)^2,\n",
    "$$\n",
    "and similarly for $\\dot{y}(t)$, to estimate the variance of the position and the velocity with negligible epistemic uncertainty.\n",
    "Plot both quantities as a function of time.\n",
    "\n",
    "**Solution**:"
   ]
  },
  {
   "cell_type": "code",
   "execution_count": null,
   "metadata": {},
   "outputs": [],
   "source": [
    "# Your code here"
   ]
  },
  {
   "cell_type": "markdown",
   "metadata": {},
   "source": [
    "### Part E\n",
    "\n",
    "Put together the estimated mean and variance to plot a 95\\% predictive interval for the position and the velocity as functions of time.\n",
    "\n",
    "**Solution**:"
   ]
  },
  {
   "cell_type": "code",
   "execution_count": null,
   "metadata": {},
   "outputs": [],
   "source": [
    "# Your code here"
   ]
  }
 ],
 "metadata": {
  "anaconda-cloud": {},
  "kernelspec": {
   "display_name": "Python 3",
   "language": "python",
   "name": "python3"
  },
  "language_info": {
   "codemirror_mode": {
    "name": "ipython",
    "version": 3
   },
   "file_extension": ".py",
   "mimetype": "text/x-python",
   "name": "python",
   "nbconvert_exporter": "python",
   "pygments_lexer": "ipython3",
   "version": "3.7.7"
  },
  "latex_envs": {
   "bibliofile": "biblio.bib",
   "cite_by": "apalike",
   "current_citInitial": 1,
   "eqLabelWithNumbers": true,
   "eqNumInitial": 0
  }
 },
 "nbformat": 4,
 "nbformat_minor": 1
}
