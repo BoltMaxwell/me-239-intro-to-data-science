{
 "cells": [
  {
   "cell_type": "markdown",
   "metadata": {},
   "source": [
    "# Homework 1\n",
    "\n",
    "**Due 9/6/2020.**\n",
    "\n",
    "## References\n",
    "\n",
    "+ Lectures 1-2 (inclusive).\n",
    "\n",
    "## Instructions\n",
    "\n",
    "+ Type your name and email in the \"Student details\" section below.\n",
    "+ Develop the code and generate the figures you need to solve the problems using this notebook.\n",
    "+ For the answers that require a mathematical proof or derivation you can either:\n",
    "    \n",
    "    - Type the answer using the built-in latex capabilities. In this case, simply export the notebook as a pdf and upload it on gradescope; or\n",
    "    - You can print the notebook (after you are done with all the code), write your answers by hand, scan, turn your response to a single pdf, and upload on gradescope.\n",
    "\n",
    "+ The total homework points are 100. Please note that the problems are not weighed equally.\n",
    "\n",
    "**Note**: Please match all the pages corresponding to each of the questions when you submit on gradescope."
   ]
  },
  {
   "cell_type": "markdown",
   "metadata": {},
   "source": [
    "## Student details\n",
    "\n",
    "+ **First Name:**\n",
    "+ **Last Name:**\n",
    "+ **Email:**"
   ]
  },
  {
   "cell_type": "markdown",
   "metadata": {},
   "source": [
    "## Problem 1 - Python as a Calculator\n",
    "\n",
    "Use Python to evaluate the following expression:\n",
    "$$\n",
    "\\frac{\\sin(\\pi/3)e^{-2}}{23^2}.\n",
    "$$"
   ]
  },
  {
   "cell_type": "code",
   "execution_count": null,
   "metadata": {},
   "outputs": [],
   "source": [
    "# Your code here"
   ]
  },
  {
   "cell_type": "markdown",
   "metadata": {},
   "source": [
    "## Problem 2 - Python Types\n",
    "\n",
    "Find the type of the following Python variables.\n",
    "You may use Python's capabilities to find the type. You don't have to guess it."
   ]
  },
  {
   "cell_type": "code",
   "execution_count": null,
   "metadata": {},
   "outputs": [],
   "source": [
    "x = 4"
   ]
  },
  {
   "cell_type": "code",
   "execution_count": null,
   "metadata": {},
   "outputs": [],
   "source": [
    "y = 23.5"
   ]
  },
  {
   "cell_type": "code",
   "execution_count": null,
   "metadata": {},
   "outputs": [],
   "source": [
    "z = 4 / 3.1"
   ]
  },
  {
   "cell_type": "code",
   "execution_count": null,
   "metadata": {},
   "outputs": [],
   "source": [
    "a = (1, 2, 4)"
   ]
  },
  {
   "cell_type": "code",
   "execution_count": null,
   "metadata": {},
   "outputs": [],
   "source": [
    "b = [3, 4, 6]"
   ]
  },
  {
   "cell_type": "code",
   "execution_count": null,
   "metadata": {},
   "outputs": [],
   "source": [
    "c = x > 2"
   ]
  },
  {
   "cell_type": "code",
   "execution_count": null,
   "metadata": {},
   "outputs": [],
   "source": [
    "d = 'Hello there!'"
   ]
  },
  {
   "cell_type": "code",
   "execution_count": null,
   "metadata": {},
   "outputs": [],
   "source": [
    "e = {'Name': 'Ilias Bilionis', \n",
    "     'Phone number': 2106012119,\n",
    "     'Zip code': 47906}"
   ]
  },
  {
   "cell_type": "code",
   "execution_count": null,
   "metadata": {},
   "outputs": [],
   "source": [
    "import numpy as np\n",
    "f = np.zeros((10, 4))"
   ]
  },
  {
   "cell_type": "code",
   "execution_count": null,
   "metadata": {},
   "outputs": [],
   "source": [
    "class MyClass(object):\n",
    "    \n",
    "    def __init__(self):\n",
    "        pass\n",
    "    \n",
    "g = MyClass()"
   ]
  },
  {
   "cell_type": "code",
   "execution_count": null,
   "metadata": {},
   "outputs": [],
   "source": [
    "import math\n",
    "h = math.sin"
   ]
  },
  {
   "cell_type": "markdown",
   "metadata": {},
   "source": [
    "## Problem 3 - Lists, Conditionals, Loops\n",
    "\n",
    "Consider the following list:"
   ]
  },
  {
   "cell_type": "code",
   "execution_count": null,
   "metadata": {},
   "outputs": [],
   "source": [
    "data = [1, 4, 3, 10, 4, 3, 4, 4]"
   ]
  },
  {
   "cell_type": "markdown",
   "metadata": {},
   "source": [
    "**In all questions below, use the functionality of ``print()`` to report your results.**\n",
    "\n",
    "Add the element 6 at the end of `data`:"
   ]
  },
  {
   "cell_type": "code",
   "execution_count": null,
   "metadata": {},
   "outputs": [],
   "source": [
    "# your code here"
   ]
  },
  {
   "cell_type": "markdown",
   "metadata": {},
   "source": [
    "Add the list [0, -1, 3] at the begining of `data`"
   ]
  },
  {
   "cell_type": "code",
   "execution_count": null,
   "metadata": {},
   "outputs": [],
   "source": [
    "# your code here"
   ]
  },
  {
   "cell_type": "markdown",
   "metadata": {},
   "source": [
    "How many elements are in the `data`?"
   ]
  },
  {
   "cell_type": "code",
   "execution_count": null,
   "metadata": {},
   "outputs": [],
   "source": [
    "# your code here"
   ]
  },
  {
   "cell_type": "markdown",
   "metadata": {},
   "source": [
    "Extract all `data` elements from the second to the second to last (inclusive)."
   ]
  },
  {
   "cell_type": "code",
   "execution_count": null,
   "metadata": {},
   "outputs": [],
   "source": [
    "# your code here"
   ]
  },
  {
   "cell_type": "markdown",
   "metadata": {},
   "source": [
    "Extract all `data` elements from the second to the second to last (inclusive) skipping every other element."
   ]
  },
  {
   "cell_type": "code",
   "execution_count": null,
   "metadata": {},
   "outputs": [],
   "source": [
    "# your code here"
   ]
  },
  {
   "cell_type": "markdown",
   "metadata": {},
   "source": [
    "Sort the list."
   ]
  },
  {
   "cell_type": "code",
   "execution_count": null,
   "metadata": {},
   "outputs": [],
   "source": [
    "# your code here"
   ]
  },
  {
   "cell_type": "markdown",
   "metadata": {},
   "source": [
    "Find the minimum of the list."
   ]
  },
  {
   "cell_type": "code",
   "execution_count": null,
   "metadata": {},
   "outputs": [],
   "source": [
    "# your code here"
   ]
  },
  {
   "cell_type": "markdown",
   "metadata": {},
   "source": [
    "Find the average of the elements in the list and ``print`` it with two significant digits."
   ]
  },
  {
   "cell_type": "code",
   "execution_count": null,
   "metadata": {},
   "outputs": [],
   "source": [
    "# your code here"
   ]
  },
  {
   "cell_type": "markdown",
   "metadata": {},
   "source": [
    "Write code to find the number of times the element 4 occurs in the list. Hint: You may use a loop or built-in functionality of the list."
   ]
  },
  {
   "cell_type": "code",
   "execution_count": null,
   "metadata": {},
   "outputs": [],
   "source": [
    "# your code here"
   ]
  },
  {
   "cell_type": "markdown",
   "metadata": {},
   "source": [
    "## Problem 4 - Functions, Loops"
   ]
  },
  {
   "cell_type": "markdown",
   "metadata": {},
   "source": [
    "Write a Python function that takes a list as an argument and returns the number of times a given element (also passed as an argument to the function) appears in the list. Call that function ``find_number_of_occurences(a, elm)``. Make sure you follow best practices when writing the docstring of your function."
   ]
  },
  {
   "cell_type": "code",
   "execution_count": null,
   "metadata": {},
   "outputs": [],
   "source": [
    "# your code here"
   ]
  },
  {
   "cell_type": "code",
   "execution_count": null,
   "metadata": {},
   "outputs": [],
   "source": [
    "# Try your code here:\n",
    "help(find_number_of_occurences)"
   ]
  },
  {
   "cell_type": "code",
   "execution_count": null,
   "metadata": {},
   "outputs": [],
   "source": [
    "# Try your code here:\n",
    "find_number_of_occurences(data, 4)"
   ]
  },
  {
   "cell_type": "markdown",
   "metadata": {},
   "source": [
    "Write a Python function that takes a list as an argument and returns the number of elements that are greater than a given element (also passed as an argument to the function). Call that function ``find_number_of_elms_greater_than(a, elm)``. Make sure you follow best practices when writing the docstring of your function."
   ]
  },
  {
   "cell_type": "code",
   "execution_count": null,
   "metadata": {},
   "outputs": [],
   "source": [
    "# your code here"
   ]
  },
  {
   "cell_type": "code",
   "execution_count": null,
   "metadata": {},
   "outputs": [],
   "source": [
    "# Try your code here:\n",
    "help(find_number_of_elms_greater_than)"
   ]
  },
  {
   "cell_type": "code",
   "execution_count": null,
   "metadata": {},
   "outputs": [],
   "source": [
    "# Try your code here:\n",
    "find_number_of_elms_greater_than(data, 3)"
   ]
  },
  {
   "cell_type": "markdown",
   "metadata": {},
   "source": [
    "## Problem 5 - Classes\n",
    "\n",
    "Create a class that represents a horizontal left-cantilevered beam.\n",
    "For simplicity, we are going to assume that only one force acts on the beam (the resultant force of any point or distributed loads).\n",
    "Call the class ``HorizontalLeftCantileveredBeam``.\n",
    "The class must have the following *attributes*:\n",
    "+ `length`: the length (m) of the beam.\n",
    "+ `force_loc`: the location (m) of any forces acting on the beam (measured from the left handside).\n",
    "+ `force_mag_x`: the force magnitude (N) in the x direction (positive is towards the right).\n",
    "+ `force_mag_y`: the force magnitude (N) in the y direction (positive points up).\n",
    "\n",
    "Furthermore, you class must implement the following functionality:\n",
    "+ One must be able to initialize your class using an expression like:\n",
    "```\n",
    "# length = 2, force_loc = 0.5, force_mag_x = 10, force_mag_y = -10\n",
    "beam = HorizontalLeftCantileveredBeam(2.0, 0.5, 10, -10)\n",
    "```\n",
    "+ During the initialization of the class you must check whether or not the input makes sense (e.g., the length must be positive, the force must act on the beam), etc.\n",
    "+ Endow your class with the capability to be printed. For example ``print(beam)`` should show something nice.\n",
    "+ Give your class the capability of calculating the support reaction force and the moment. This should be done through a class function called ``get_support_reaction()`` which should return `R_x, R_y` and `M`."
   ]
  },
  {
   "cell_type": "code",
   "execution_count": null,
   "metadata": {},
   "outputs": [],
   "source": [
    "# your code here"
   ]
  },
  {
   "cell_type": "code",
   "execution_count": null,
   "metadata": {},
   "outputs": [],
   "source": [
    "# test your code here\n",
    "beam = HorizontalLeftCantileveredBeam(2.0, 0.5, 10, -10)"
   ]
  },
  {
   "cell_type": "code",
   "execution_count": null,
   "metadata": {},
   "outputs": [],
   "source": [
    "# test your code here\n",
    "print(beam)"
   ]
  },
  {
   "cell_type": "code",
   "execution_count": null,
   "metadata": {},
   "outputs": [],
   "source": [
    "# test your code here\n",
    "R_x, R_y, M = beam.get_support_reaction()"
   ]
  },
  {
   "cell_type": "markdown",
   "metadata": {},
   "source": [
    "## Problem 6 - Numpy Arrays and Linear Algebra\n",
    "\n",
    "Use numpy functionality to solve the following linear system:\n",
    "$$\n",
    "\\begin{bmatrix}\n",
    "1& 0 & 1\\\\\n",
    "0&-3& 1\\\\\n",
    "2&1&3\n",
    "\\end{bmatrix} \\mathbf{x}\n",
    "=\n",
    "\\begin{bmatrix}\n",
    "4\\\\\n",
    "2\\\\\n",
    "0\n",
    "\\end{bmatrix}\n",
    "$$"
   ]
  },
  {
   "cell_type": "code",
   "execution_count": null,
   "metadata": {},
   "outputs": [],
   "source": [
    "# your code here"
   ]
  },
  {
   "cell_type": "markdown",
   "metadata": {},
   "source": [
    "# Problem 7 - Basic Plotting\n",
    "\n",
    "Consider the equation of motion for a pendulum of length $\\ell$.\n",
    "It is:\n",
    "$$\n",
    "\\ddot{\\theta} = -\\frac{g}{\\ell}\\sin\\theta,\n",
    "$$\n",
    "where $\\theta$ is the angle between the pendulum and the vertical axis and $g$ is the acceleration of gravity.\n",
    "\n",
    "We will use the basic functionality of Python library called [scipy](https://www.scipy.org/) to solve this differential equation.\n",
    "In particular, we are going to use [scipy.solve_ivp](https://docs.scipy.org/doc/scipy/reference/generated/scipy.integrate.solve_ivp.html#scipy.integrate.solve_ivp) (ivp stands for initial value problem).\n",
    "\n",
    "Scipy does not like 2nd order differential equations.\n",
    "It can only solve 1st order differential equation (only the first derivative must appear in the equation).\n",
    "So, to proceed we need to recast the equation of motion as a first order dynamical system.\n",
    "The recipe for doing this goes like this.\n",
    "We define two variables:\n",
    "$$\n",
    "x_1 = \\theta,\n",
    "$$\n",
    "and\n",
    "$$\n",
    "x_2 = \\dot{x}_1 = \\dot{\\theta}.\n",
    "$$\n",
    "Then, the equation of motion can be rewritten as:\n",
    "$$\n",
    "\\dot{x}_2 = \\ddot{\\theta} = -\\frac{g}{\\ell}\\sin(\\theta) = -\\frac{g}{\\ell}\\sin(x_1).\n",
    "$$\n",
    "Rearranging the equations, we see the that equation of motion is equivalent to solving the following dynamical system:\n",
    "$$\n",
    "\\begin{array}{ccc}\n",
    "\\dot{x}_1 &=& x_2\\\\\n",
    "\\dot{x}_2 &=& -\\frac{g}{\\ell}\\sin(x_1).\n",
    "\\end{array}\n",
    "$$\n",
    "To solve this system, we need initial conditions:\n",
    "$$\n",
    "\\begin{array}{ccc}\n",
    "x_1(0) &=& \\theta_0,\\\\\n",
    "x_2(0) &=& \\omega_0.\n",
    "\\end{array}\n",
    "$$\n",
    "What scipy.solve_ivp needs to know is the right-hand side of the 1st order dynamical system defined above and the initial conditions.\n",
    "Let me set it up for you."
   ]
  },
  {
   "cell_type": "code",
   "execution_count": null,
   "metadata": {},
   "outputs": [],
   "source": [
    "import math\n",
    "\n",
    "def rhs(t, x, l, g=9.8):\n",
    "    \"\"\"\n",
    "    The right hand side of the first order dynamical system corresponding\n",
    "    to the pendulum.\n",
    "    \n",
    "    Arguments:\n",
    "        t     -    The time (s). Here this variable is ignored because the\n",
    "                   right hand side of our equation does not depend on time.\n",
    "        x     -    Must be an array of two elements.\n",
    "        g     -    The acceleration of gravity (m/s^2). Default g=9.8 m/s^2\n",
    "        l     -    The length of the pendulum (m).\n",
    "        \n",
    "    Returns:\n",
    "        A 1D, 2-element array containing the values of the right hand side.\n",
    "    \"\"\"\n",
    "    # Make an uninitialized array with two elements\n",
    "    res = np.ndarray((2,))\n",
    "    # Populate it with the values of the right hand side\n",
    "    res[0] = x[1]\n",
    "    res[1] = -g / l * math.sin(x[0])\n",
    "    # Return it\n",
    "    return res"
   ]
  },
  {
   "cell_type": "markdown",
   "metadata": {},
   "source": [
    "And here is how you can solve the ODE:"
   ]
  },
  {
   "cell_type": "code",
   "execution_count": null,
   "metadata": {},
   "outputs": [],
   "source": [
    "# Import that Python library\n",
    "import scipy.integrate \n",
    "\n",
    "# The length of the pendulum\n",
    "l = 1.0\n",
    "# The initial conditions\n",
    "x0 = [math.pi/3.0, # Initial angle (radians)\n",
    "      0.0]         # Initial angular velocity (radians/s)\n",
    "# The time span on which you want the solution\n",
    "t_span = [0.0,     # Initial time\n",
    "          10.0]    # Final time\n",
    "# The points on which you want the solution.\n",
    "# Let's pick 200 points between t_span[0] and t_span[1]\n",
    "t_eval = np.linspace(t_span[0], t_span[1], 200)\n",
    "# And now we are ready to solve it:\n",
    "result = scipy.integrate.solve_ivp(rhs, t_span, x0, # These are standard\n",
    "                                   t_eval=t_eval,   # The evaluation times are optional\n",
    "                                   args=(l,)        # These are the arguments that the\n",
    "                                                    # solver needs to pass to the rhs.\n",
    "                                  )"
   ]
  },
  {
   "cell_type": "code",
   "execution_count": null,
   "metadata": {},
   "outputs": [],
   "source": [
    "# See the result:\n",
    "result"
   ]
  },
  {
   "cell_type": "code",
   "execution_count": null,
   "metadata": {},
   "outputs": [],
   "source": [
    "# Grab the times\n",
    "t = result.t\n",
    "# And grap the solution\n",
    "x = result.y"
   ]
  },
  {
   "cell_type": "markdown",
   "metadata": {},
   "source": [
    "+ What is the shape of the solution array ``x``?"
   ]
  },
  {
   "cell_type": "code",
   "execution_count": null,
   "metadata": {},
   "outputs": [],
   "source": [
    "# your code here"
   ]
  },
  {
   "cell_type": "markdown",
   "metadata": {},
   "source": [
    "*Here explain what each dimension of `x` corresponds to?*"
   ]
  },
  {
   "cell_type": "markdown",
   "metadata": {},
   "source": [
    "+ Using Matplotlib, plot the angle and the angular velocity of the pendulum as functions of time. Make sure you label the horizontal and the vertical axes and that you include a plot legend."
   ]
  },
  {
   "cell_type": "code",
   "execution_count": null,
   "metadata": {},
   "outputs": [],
   "source": [
    "import matplotlib.pyplot as plt\n",
    "%matplotlib inline\n",
    "# your code here"
   ]
  },
  {
   "cell_type": "markdown",
   "metadata": {},
   "source": [
    "+ Using Matplotlib, plot the trajectory of the pendulum in the phase space (the space of angles and angular velocities). Again, make sure you labels the horizontal and vertical axes properly."
   ]
  },
  {
   "cell_type": "code",
   "execution_count": null,
   "metadata": {},
   "outputs": [],
   "source": [
    "# your code here"
   ]
  },
  {
   "cell_type": "markdown",
   "metadata": {},
   "source": [
    "+ Now, let's assume that we have a sensor that gives you a noisy version of the position.\n",
    "I'm going to generate a synthetic dataset for you by adding some noise to the true angle:"
   ]
  },
  {
   "cell_type": "code",
   "execution_count": null,
   "metadata": {},
   "outputs": [],
   "source": [
    "noisy_angles = x[0, :] + 0.2 * np.random.randn(x.shape[1])"
   ]
  },
  {
   "cell_type": "markdown",
   "metadata": {},
   "source": [
    "Plot the theoretical angle of the pendulum as functions of time as a line along with the noisy \"experimental\" observations as points. Make sure you label the horizontal and the vertical axes and that you include a plot legend."
   ]
  },
  {
   "cell_type": "code",
   "execution_count": null,
   "metadata": {},
   "outputs": [],
   "source": [
    "# your code here"
   ]
  },
  {
   "cell_type": "markdown",
   "metadata": {},
   "source": [
    "## Problem 8 - Python Data Analysis Library\n",
    "\n",
    "In this problem we are going to use the `pandas` library to analyze a real dataset collected as part of the NSF-funded project [Sociotechnical Systems to Enable Energy-Aware Residential Communities](https://www.energyawarecommunities.org/).\n",
    "You can find the raw dataset here:\n",
    "\n",
    "https://github.com/PurdueMechanicalEngineering/me-297-intro-to-data-science/raw/master/homework/temperature_raw.xlsx\n",
    "\n",
    "Feel free to download it and open it up in Excel.\n",
    "\n",
    "### Uploading data files to Google Colab\n",
    "The first thing we are going to do in this problem is make this file accessible from this notebook. We could simply use the ``download()`` function that I introduced in the Hands-on Activity 2.3. I will put the code at the very last block for your convenience.\n",
    "However, I still want to show you how you can upload your own data. Here we go.\n",
    "\n",
    "+ Second, go to your Google Drive. We need to select a folder to put the files. To keep things simple, let's just dump everything in \"My Drive/Colab Notebooks,\" i.e., the same folder that contains the copy of this Jupyter notebook which you should have already made  Once you have entered this folder in your Google Drive (just double click on it), drag and drop the `temperature_raw.xlsx` file in there.\n",
    "\n",
    "+ Now we need to make the Google Drive visible from this computational session. We do this by mounting the drive. You need to run this code and follow the instructions:"
   ]
  },
  {
   "cell_type": "code",
   "execution_count": null,
   "metadata": {},
   "outputs": [],
   "source": [
    "# The following code does not run unless you are running the notebook on Google Colab\n",
    "from google.colab import drive\n",
    "drive.mount('/content/drive')"
   ]
  },
  {
   "cell_type": "markdown",
   "metadata": {},
   "source": [
    "+ Finally, change directories so that the data files are in the current working directory:"
   ]
  },
  {
   "cell_type": "code",
   "execution_count": null,
   "metadata": {},
   "outputs": [],
   "source": [
    "# Only if you are running on Google Colab...\n",
    "# Print working directory before changing\n",
    "!pwd\n",
    "# Change to the desired directory on Google drive\n",
    "%cd \"/content/drive/My Drive/Colab Notebooks\"\n",
    "# Print working directory after changing\n",
    "!pwd\n",
    "# List the contents of the directory - Make sure it does contain the files we want:\n",
    "!ls"
   ]
  },
  {
   "cell_type": "markdown",
   "metadata": {},
   "source": [
    "Now you should have access to the file and you can **skip the next code block.**\n",
    "If you tried and something went wrong, simply run the code block below and it will put the data file in the right location for you."
   ]
  },
  {
   "cell_type": "code",
   "execution_count": null,
   "metadata": {},
   "outputs": [],
   "source": [
    "# Only run this if the steps above failed for some reason.\n",
    "import requests\n",
    "import os\n",
    "def download(url, local_filename=None):\n",
    "    \"\"\"\n",
    "    Downloads the file in the ``url`` and saves it in the current working directory.\n",
    "    \"\"\"\n",
    "    data = requests.get(url)\n",
    "    if local_filename is None:\n",
    "        local_filename = os.path.basename(url)\n",
    "    with open(local_filename, 'wb') as fd:\n",
    "        fd.write(data.content)\n",
    "   \n",
    "# The url of the file we want to download\n",
    "url = 'https://github.com/PurdueMechanicalEngineering/me-297-intro-to-data-science/raw/master/homework/temperature_raw.xlsx'\n",
    "download(url)"
   ]
  },
  {
   "cell_type": "markdown",
   "metadata": {},
   "source": [
    "### Loading Excel files\n",
    "\n",
    "Use the ``pd.read_excel`` function to read the `temperature_raw.xlsx` file.\n",
    "Name the data frame you read `df`."
   ]
  },
  {
   "cell_type": "code",
   "execution_count": null,
   "metadata": {},
   "outputs": [],
   "source": [
    "import pandas as pd\n",
    "# your code here"
   ]
  },
  {
   "cell_type": "markdown",
   "metadata": {},
   "source": [
    "### Questions\n",
    "\n",
    "Now that you have access to the data frame, let's explore it.\n",
    "Answer the following questions.\n",
    "\n",
    "+ Print the first 10 rows of the data frame `df`:"
   ]
  },
  {
   "cell_type": "code",
   "execution_count": null,
   "metadata": {},
   "outputs": [],
   "source": [
    "# Your code here"
   ]
  },
  {
   "cell_type": "markdown",
   "metadata": {},
   "source": [
    "+ Print the last 10 rows of the data frame `df`:"
   ]
  },
  {
   "cell_type": "code",
   "execution_count": null,
   "metadata": {},
   "outputs": [],
   "source": [
    "# Your code here"
   ]
  },
  {
   "cell_type": "markdown",
   "metadata": {},
   "source": [
    "+ Print summary statistics of the data set."
   ]
  },
  {
   "cell_type": "code",
   "execution_count": null,
   "metadata": {},
   "outputs": [],
   "source": [
    "# Your code here"
   ]
  },
  {
   "cell_type": "markdown",
   "metadata": {},
   "source": [
    "+ Notice that there is a column called \"date\", but pandas is not aware that this is actually a date.\n",
    "Let's make it aware of that."
   ]
  },
  {
   "cell_type": "code",
   "execution_count": null,
   "metadata": {},
   "outputs": [],
   "source": [
    "df.date = pd.to_datetime(df['date'], format='%Y-%m-%d')"
   ]
  },
  {
   "cell_type": "markdown",
   "metadata": {},
   "source": [
    "+ Count how many NaN values you have on each column.\n",
    "*Hint: [Google the right term](https://lmgtfy.com/?q=pandas+count+NaN+values+per+column)*"
   ]
  },
  {
   "cell_type": "code",
   "execution_count": null,
   "metadata": {},
   "outputs": [],
   "source": [
    "# your code here"
   ]
  },
  {
   "cell_type": "markdown",
   "metadata": {},
   "source": [
    "+ Clean the data set by dropping all NaN values. Call the cleaned data `df_clean`."
   ]
  },
  {
   "cell_type": "code",
   "execution_count": null,
   "metadata": {},
   "outputs": [],
   "source": [
    "# your code here"
   ]
  },
  {
   "cell_type": "markdown",
   "metadata": {},
   "source": [
    "+ Verify that there are no NaN values in `df_clean`."
   ]
  },
  {
   "cell_type": "code",
   "execution_count": null,
   "metadata": {},
   "outputs": [],
   "source": [
    "# your code here"
   ]
  },
  {
   "cell_type": "markdown",
   "metadata": {},
   "source": [
    "+ How many unique households do we have and what are their unique names? Hint: Use Google."
   ]
  },
  {
   "cell_type": "code",
   "execution_count": null,
   "metadata": {},
   "outputs": [],
   "source": [
    "# your code here"
   ]
  },
  {
   "cell_type": "markdown",
   "metadata": {},
   "source": [
    "+ Extract the data pertaining to `household = a5`."
   ]
  },
  {
   "cell_type": "code",
   "execution_count": null,
   "metadata": {},
   "outputs": [],
   "source": [
    "# Your code here"
   ]
  },
  {
   "cell_type": "markdown",
   "metadata": {},
   "source": [
    "+ For household `a5`, plot `t_unit` as a function of date."
   ]
  },
  {
   "cell_type": "code",
   "execution_count": null,
   "metadata": {},
   "outputs": [],
   "source": [
    "# Your code here"
   ]
  },
  {
   "cell_type": "markdown",
   "metadata": {},
   "source": [
    "+ Do the same plot (`date` vs `t_unit`) for household `a11`."
   ]
  },
  {
   "cell_type": "code",
   "execution_count": null,
   "metadata": {},
   "outputs": [],
   "source": [
    "# your code here"
   ]
  },
  {
   "cell_type": "markdown",
   "metadata": {},
   "source": [
    "+ For household `a5` do the scatter plot between `t_unit` and `hvac`."
   ]
  },
  {
   "cell_type": "code",
   "execution_count": null,
   "metadata": {},
   "outputs": [],
   "source": [
    "fig, ax = plt.subplots()\n",
    "# your code here"
   ]
  },
  {
   "cell_type": "markdown",
   "metadata": {},
   "source": [
    "+ In the same plot do the `t_unit` and `hvac` scatter plots for both households `a5` and `a11`."
   ]
  },
  {
   "cell_type": "code",
   "execution_count": null,
   "metadata": {},
   "outputs": [],
   "source": [
    "# your code here"
   ]
  },
  {
   "cell_type": "markdown",
   "metadata": {},
   "source": [
    "+ In the same plot do the `t_out` and `hvac` scatter plots for both households `a5` and `a11`. Explain why the shape looks like a U?"
   ]
  },
  {
   "cell_type": "code",
   "execution_count": null,
   "metadata": {},
   "outputs": [],
   "source": [
    "# your code here"
   ]
  },
  {
   "cell_type": "markdown",
   "metadata": {},
   "source": [
    "*Your explanation about the U shape here.*"
   ]
  },
  {
   "cell_type": "markdown",
   "metadata": {},
   "source": [
    "+ In the same plot do the `t_out` and `t_unit` scatter plots for both households `a5` and `a11`."
   ]
  },
  {
   "cell_type": "code",
   "execution_count": null,
   "metadata": {},
   "outputs": [],
   "source": [
    "# your code here"
   ]
  },
  {
   "cell_type": "markdown",
   "metadata": {},
   "source": [
    "+ In the same plot, do the histogram of `t_unit` for households `a5` and `a11`.\n",
    "Which household prefers cooler temperatures?\n",
    "To make the histogram more appealing use the keywords ``density=True, alpha=0.25``."
   ]
  },
  {
   "cell_type": "code",
   "execution_count": null,
   "metadata": {},
   "outputs": [],
   "source": [
    "fig, ax = plt.subplots()\n",
    "ax.hist(df_a5.t_unit, density=True, alpha=0.25)\n",
    "# your code here"
   ]
  },
  {
   "cell_type": "markdown",
   "metadata": {},
   "source": [
    "*your answer and explanation here*"
   ]
  },
  {
   "cell_type": "markdown",
   "metadata": {},
   "source": [
    "+ In the same plot, do the histogram of `hvac` for households `a5` and `a11`.\n",
    "Which household is more energy efficient and why?\n",
    "To make the histogram more appealing use the keywords ``density=True, alpha=0.25``."
   ]
  },
  {
   "cell_type": "code",
   "execution_count": null,
   "metadata": {},
   "outputs": [],
   "source": [
    "# your code here"
   ]
  },
  {
   "cell_type": "markdown",
   "metadata": {},
   "source": [
    "*your answer and explanation here*"
   ]
  },
  {
   "cell_type": "markdown",
   "metadata": {},
   "source": [
    "+ Repeat the analysis above for households `b17` and `c40`. Which household prefers cooler temperatures and which one is more energy efficient?"
   ]
  },
  {
   "cell_type": "code",
   "execution_count": null,
   "metadata": {},
   "outputs": [],
   "source": [
    "# your code here"
   ]
  },
  {
   "cell_type": "markdown",
   "metadata": {},
   "source": [
    "*Your answer and explanation here. Use as many code and markdown blocks as you want.*"
   ]
  }
 ],
 "metadata": {
  "kernelspec": {
   "display_name": "Python 3",
   "language": "python",
   "name": "python3"
  },
  "language_info": {
   "codemirror_mode": {
    "name": "ipython",
    "version": 3
   },
   "file_extension": ".py",
   "mimetype": "text/x-python",
   "name": "python",
   "nbconvert_exporter": "python",
   "pygments_lexer": "ipython3",
   "version": "3.7.7"
  }
 },
 "nbformat": 4,
 "nbformat_minor": 4
}
