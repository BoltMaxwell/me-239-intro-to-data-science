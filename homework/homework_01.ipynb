{
 "cells": [
  {
   "cell_type": "markdown",
   "metadata": {},
   "source": [
    "# Homework 1\n",
    "\n",
    "**Due 9/6/2020.**\n",
    "\n",
    "## References\n",
    "\n",
    "+ Lectures 1-2 (inclusive).\n",
    "\n",
    "## Instructions\n",
    "\n",
    "+ Type your name and email in the \"Student details\" section below.\n",
    "+ Develop the code and generate the figures you need to solve the problems using this notebook.\n",
    "+ For the answers that require a mathematical proof or derivation you can either:\n",
    "    \n",
    "    - Type the answer using the built-in latex capabilities. In this case, simply export the notebook as a pdf and upload it on gradescope; or\n",
    "    - You can print the notebook (after you are done with all the code), write your answers by hand, scan, turn your response to a single pdf, and upload on gradescope.\n",
    "\n",
    "+ The total homework points are 100. Please note that the problems are not weighed equally.\n",
    "\n",
    "**Note**: Please match all the pages corresponding to each of the questions when you submit on gradescope."
   ]
  },
  {
   "cell_type": "markdown",
   "metadata": {},
   "source": [
    "## Student details\n",
    "\n",
    "+ **First Name:**\n",
    "+ **Last Name:**\n",
    "+ **Email:**"
   ]
  },
  {
   "cell_type": "markdown",
   "metadata": {},
   "source": [
    "## Problem 1 - Python as a Calculator\n",
    "\n",
    "Use Python to evaluate the following expression:\n",
    "$$\n",
    "\\frac{\\sin(\\pi/3)e^{-2}}{23^2}.\n",
    "$$"
   ]
  },
  {
   "cell_type": "code",
   "execution_count": 1,
   "metadata": {},
   "outputs": [],
   "source": [
    "# Your code here"
   ]
  },
  {
   "cell_type": "markdown",
   "metadata": {},
   "source": [
    "## Problem 2 - Python Types\n",
    "\n",
    "Find the type of the following Python variables.\n",
    "You may use Python's capabilities to find the type. You don't have to guess it."
   ]
  },
  {
   "cell_type": "code",
   "execution_count": 4,
   "metadata": {},
   "outputs": [],
   "source": [
    "x = 4"
   ]
  },
  {
   "cell_type": "code",
   "execution_count": 5,
   "metadata": {},
   "outputs": [],
   "source": [
    "y = 23.5"
   ]
  },
  {
   "cell_type": "code",
   "execution_count": 16,
   "metadata": {},
   "outputs": [],
   "source": [
    "z = 4 / 3.1"
   ]
  },
  {
   "cell_type": "code",
   "execution_count": 2,
   "metadata": {},
   "outputs": [],
   "source": [
    "a = (1, 2, 4)"
   ]
  },
  {
   "cell_type": "code",
   "execution_count": 3,
   "metadata": {},
   "outputs": [],
   "source": [
    "b = [3, 4, 6]"
   ]
  },
  {
   "cell_type": "code",
   "execution_count": 6,
   "metadata": {},
   "outputs": [],
   "source": [
    "c = x > 2"
   ]
  },
  {
   "cell_type": "code",
   "execution_count": null,
   "metadata": {},
   "outputs": [],
   "source": [
    "d = 'Hello there!'"
   ]
  },
  {
   "cell_type": "code",
   "execution_count": 7,
   "metadata": {},
   "outputs": [],
   "source": [
    "e = {'Name': 'Ilias Bilionis', \n",
    "     'Phone number': 2106012119,\n",
    "     'Zip code': 47906}"
   ]
  },
  {
   "cell_type": "code",
   "execution_count": 8,
   "metadata": {},
   "outputs": [],
   "source": [
    "import numpy as np\n",
    "f = np.zeros((10, 4))"
   ]
  },
  {
   "cell_type": "code",
   "execution_count": 11,
   "metadata": {},
   "outputs": [],
   "source": [
    "class MyClass(object):\n",
    "    \n",
    "    def __init__(self):\n",
    "        pass\n",
    "    \n",
    "g = MyClass()"
   ]
  },
  {
   "cell_type": "code",
   "execution_count": 17,
   "metadata": {},
   "outputs": [],
   "source": [
    "import math\n",
    "h = math.sin"
   ]
  },
  {
   "cell_type": "markdown",
   "metadata": {},
   "source": [
    "## Problem 3 - Lists, Conditionals, Loops\n",
    "\n",
    "Consider the following list:"
   ]
  },
  {
   "cell_type": "code",
   "execution_count": 18,
   "metadata": {},
   "outputs": [],
   "source": [
    "data = [1, 4, 3, 10, 4, 3, 4, 4]"
   ]
  },
  {
   "cell_type": "markdown",
   "metadata": {},
   "source": [
    "**In all questions below, use the functionality of ``print()`` to report your results.**\n",
    "\n",
    "Add the element 6 at the end of `data`:"
   ]
  },
  {
   "cell_type": "code",
   "execution_count": 19,
   "metadata": {},
   "outputs": [],
   "source": [
    "# your code here"
   ]
  },
  {
   "cell_type": "markdown",
   "metadata": {},
   "source": [
    "Add the list [0, -1, 3] at the begining of `data`"
   ]
  },
  {
   "cell_type": "code",
   "execution_count": 20,
   "metadata": {},
   "outputs": [],
   "source": [
    "# your code here"
   ]
  },
  {
   "cell_type": "markdown",
   "metadata": {},
   "source": [
    "How many elements are in the `data`?"
   ]
  },
  {
   "cell_type": "code",
   "execution_count": 21,
   "metadata": {},
   "outputs": [],
   "source": [
    "# your code here"
   ]
  },
  {
   "cell_type": "markdown",
   "metadata": {},
   "source": [
    "Extract all `data` elements from the second to the second to last (inclusive)."
   ]
  },
  {
   "cell_type": "code",
   "execution_count": 22,
   "metadata": {},
   "outputs": [],
   "source": [
    "# your code here"
   ]
  },
  {
   "cell_type": "markdown",
   "metadata": {},
   "source": [
    "Extract all `data` elements from the second to the second to last (inclusive) skipping every other element."
   ]
  },
  {
   "cell_type": "code",
   "execution_count": 23,
   "metadata": {},
   "outputs": [],
   "source": [
    "# your code here"
   ]
  },
  {
   "cell_type": "markdown",
   "metadata": {},
   "source": [
    "Sort the list."
   ]
  },
  {
   "cell_type": "code",
   "execution_count": 24,
   "metadata": {},
   "outputs": [],
   "source": [
    "# your code here"
   ]
  },
  {
   "cell_type": "markdown",
   "metadata": {},
   "source": [
    "Find the minimum of the list."
   ]
  },
  {
   "cell_type": "code",
   "execution_count": 25,
   "metadata": {},
   "outputs": [],
   "source": [
    "# your code here"
   ]
  },
  {
   "cell_type": "markdown",
   "metadata": {},
   "source": [
    "Find the average of the elements in the list and ``print`` it with two significant digits."
   ]
  },
  {
   "cell_type": "code",
   "execution_count": 26,
   "metadata": {},
   "outputs": [],
   "source": [
    "# your code here"
   ]
  },
  {
   "cell_type": "markdown",
   "metadata": {},
   "source": [
    "Write code to find the number of times the element 4 occurs in the list. Hint: You may use a loop or built-in functionality of the list."
   ]
  },
  {
   "cell_type": "code",
   "execution_count": 27,
   "metadata": {},
   "outputs": [],
   "source": [
    "# your code here"
   ]
  },
  {
   "cell_type": "markdown",
   "metadata": {},
   "source": [
    "## Problem 4 - Functions, Loops"
   ]
  },
  {
   "cell_type": "markdown",
   "metadata": {},
   "source": [
    "Write a Python function that takes a list as an argument and returns the number of times a given element (also passed as an argument to the function) appears in the list. Call that function ``find_number_of_occurences(a, elm)``. Make sure you follow best practices when writing the docstring of your function."
   ]
  },
  {
   "cell_type": "code",
   "execution_count": null,
   "metadata": {},
   "outputs": [],
   "source": [
    "# your code here"
   ]
  },
  {
   "cell_type": "code",
   "execution_count": null,
   "metadata": {},
   "outputs": [],
   "source": [
    "# Try your code here:\n",
    "help(find_number_of_occurences)"
   ]
  },
  {
   "cell_type": "code",
   "execution_count": null,
   "metadata": {},
   "outputs": [],
   "source": [
    "# Try your code here:\n",
    "find_number_of_occurences(data, 4)"
   ]
  },
  {
   "cell_type": "markdown",
   "metadata": {},
   "source": [
    "Write a Python function that takes a list as an argument and returns the number of elements that are greater than a given element (also passed as an argument to the function). Call that function ``find_number_of_elms_greater_than(a, elm)``. Make sure you follow best practices when writing the docstring of your function."
   ]
  },
  {
   "cell_type": "code",
   "execution_count": 28,
   "metadata": {},
   "outputs": [],
   "source": [
    "# your code here"
   ]
  },
  {
   "cell_type": "code",
   "execution_count": 29,
   "metadata": {},
   "outputs": [
    {
     "ename": "NameError",
     "evalue": "name 'find_number_of_greater_than' is not defined",
     "output_type": "error",
     "traceback": [
      "\u001b[0;31m---------------------------------------------------------------------------\u001b[0m",
      "\u001b[0;31mNameError\u001b[0m                                 Traceback (most recent call last)",
      "\u001b[0;32m<ipython-input-29-58811f71c178>\u001b[0m in \u001b[0;36m<module>\u001b[0;34m\u001b[0m\n\u001b[1;32m      1\u001b[0m \u001b[0;31m# Try your code here:\u001b[0m\u001b[0;34m\u001b[0m\u001b[0;34m\u001b[0m\u001b[0;34m\u001b[0m\u001b[0m\n\u001b[0;32m----> 2\u001b[0;31m \u001b[0mhelp\u001b[0m\u001b[0;34m(\u001b[0m\u001b[0mfind_number_of_greater_than\u001b[0m\u001b[0;34m)\u001b[0m\u001b[0;34m\u001b[0m\u001b[0;34m\u001b[0m\u001b[0m\n\u001b[0m",
      "\u001b[0;31mNameError\u001b[0m: name 'find_number_of_greater_than' is not defined"
     ]
    }
   ],
   "source": [
    "# Try your code here:\n",
    "help(find_number_of_elms_greater_than)"
   ]
  },
  {
   "cell_type": "code",
   "execution_count": null,
   "metadata": {},
   "outputs": [],
   "source": [
    "# Try your code here:\n",
    "find_number_of_elms_greater_than(data, 3)"
   ]
  },
  {
   "cell_type": "markdown",
   "metadata": {},
   "source": [
    "## Problem 5 - Classes\n",
    "\n",
    "Create a class that represents a horizontal left-cantilevered beam.\n",
    "For simplicity, we are going to assume that only one force acts on the beam (the resultant force of any point or distributed loads).\n",
    "Call the class ``HorizontalLeftCantileveredBeam``.\n",
    "The class must have the following *attributes*:\n",
    "+ `length`: the length (m) of the beam.\n",
    "+ `force_loc`: the location (m) of any forces acting on the beam (measured from the left handside).\n",
    "+ `force_mag_x`: the force magnitude (N) in the x direction (positive is towards the right).\n",
    "+ `force_mag_y`: the force magnitude (N) in the y direction (positive points up).\n",
    "\n",
    "Furthermore, you class must implement the following functionality:\n",
    "+ One must be able to initialize your class using an expression like:\n",
    "```\n",
    "# length = 2, force_loc = 0.5, force_mag_x = 10, force_mag_y = -10\n",
    "beam = HorizontalLeftCantileveredBeam(2.0, 0.5, 10, -10)\n",
    "```\n",
    "+ During the initialization of the class you must check whether or not the input makes sense (e.g., the length must be positive, the force must act on the beam), etc.\n",
    "+ Endow your class with the capability to be printed. For example ``print(beam)`` should show something nice.\n",
    "+ Give your class the capability of calculating the support reaction force and the moment. This should be done through a class function called ``get_support_reaction()`` which should return `R_x, R_y` and `M`."
   ]
  },
  {
   "cell_type": "code",
   "execution_count": 30,
   "metadata": {},
   "outputs": [],
   "source": [
    "# your code here"
   ]
  },
  {
   "cell_type": "code",
   "execution_count": null,
   "metadata": {},
   "outputs": [],
   "source": [
    "# test your code here\n",
    "beam = HorizontalLeftCantileveredBeam(2.0, 0.5, 10, -10)"
   ]
  },
  {
   "cell_type": "code",
   "execution_count": null,
   "metadata": {},
   "outputs": [],
   "source": [
    "# test your code here\n",
    "print(beam)"
   ]
  },
  {
   "cell_type": "code",
   "execution_count": null,
   "metadata": {},
   "outputs": [],
   "source": [
    "# test your code here\n",
    "R_x, R_y, M = beam.get_support_reaction()"
   ]
  },
  {
   "cell_type": "markdown",
   "metadata": {},
   "source": [
    "## Problem 6 - Numpy Arrays and Linear Algebra\n",
    "\n",
    "Use numpy functionality to solve the following linear system:\n",
    "$$\n",
    "\\begin{bmatrix}\n",
    "1& 0 & 1\\\\\n",
    "0&-3& 1\\\\\n",
    "2&1&3\n",
    "\\end{bmatrix} \\mathbf{x}\n",
    "=\n",
    "\\begin{bmatrix}\n",
    "4\\\\\n",
    "2\\\\\n",
    "0\n",
    "\\end{bmatrix}\n",
    "$$"
   ]
  },
  {
   "cell_type": "code",
   "execution_count": 31,
   "metadata": {},
   "outputs": [],
   "source": [
    "# your code here"
   ]
  },
  {
   "cell_type": "markdown",
   "metadata": {},
   "source": [
    "# Problem 7 - Basic Plotting\n",
    "\n",
    "Consider the equation of motion for a pendulum of length $\\ell$.\n",
    "It is:\n",
    "$$\n",
    "\\ddot{\\theta} = -\\frac{g}{\\ell}\\sin\\theta,\n",
    "$$\n",
    "where $\\theta$ is the angle between the pendulum and the vertical axis and $g$ is the acceleration of gravity.\n",
    "![pendulum](https://upload.wikimedia.org/wikipedia/commons/2/24/Oscillating_pendulum.gif)\n",
    "We will use the basic functionality of Python library called [scipy](https://www.scipy.org/) to solve this differential equation.\n",
    "In particular, we are going to use [scipy.solve_ivp](https://docs.scipy.org/doc/scipy/reference/generated/scipy.integrate.solve_ivp.html#scipy.integrate.solve_ivp) (ivp stands for initial value problem).\n",
    "\n",
    "Scipy does not like 2nd order differential equations.\n",
    "It can only solve 1st order differential equation (only the first derivative must appear in the equation).\n",
    "So, to proceed we need to recast the equation of motion as a first order dynamical system.\n",
    "The recipe for doing this goes like this.\n",
    "We define two variables:\n",
    "$$\n",
    "x_1 = \\theta,\n",
    "$$\n",
    "and\n",
    "$$\n",
    "x_2 = \\dot{x}_1 = \\dot{\\theta}.\n",
    "$$\n",
    "Then, the equation of motion can be rewritten as:\n",
    "$$\n",
    "\\dot{x}_2 = \\ddot{\\theta} = -\\frac{g}{\\ell}\\sin(\\theta) = -\\frac{g}{\\ell}\\sin(x_1).\n",
    "$$\n",
    "Rearranging the equations, we see the that equation of motion is equivalent to solving the following dynamical system:\n",
    "$$\n",
    "\\begin{array}{ccc}\n",
    "\\dot{x}_1 &=& x_2\\\\\n",
    "\\dot{x}_2 &=& -\\frac{g}{\\ell}\\sin(x_1).\n",
    "\\end{array}\n",
    "$$\n",
    "To solve this system, we need initial conditions:\n",
    "$$\n",
    "\\begin{array}{ccc}\n",
    "x_1(0) &=& \\theta_0,\\\\\n",
    "x_2(0) &=& \\omega_0.\n",
    "\\end{array}\n",
    "$$\n",
    "What scipy.solve_ivp needs to know is the right-hand side of the 1st order dynamical system defined above and the initial conditions.\n",
    "Let me set it up for you."
   ]
  },
  {
   "cell_type": "code",
   "execution_count": 34,
   "metadata": {},
   "outputs": [],
   "source": [
    "import math\n",
    "\n",
    "def rhs(t, x, l, g=9.8):\n",
    "    \"\"\"\n",
    "    The right hand side of the first order dynamical system corresponding\n",
    "    to the pendulum.\n",
    "    \n",
    "    Arguments:\n",
    "        t     -    The time (s). Here this variable is ignored because the\n",
    "                   right hand side of our equation does not depend on time.\n",
    "        x     -    Must be an array of two elements.\n",
    "        g     -    The acceleration of gravity (m/s^2). Default g=9.8 m/s^2\n",
    "        l     -    The length of the pendulum (m).\n",
    "        \n",
    "    Returns:\n",
    "        A 1D, 2-element array containing the values of the right hand side.\n",
    "    \"\"\"\n",
    "    # Make an uninitialized array with two elements\n",
    "    res = np.ndarray((2,))\n",
    "    # Populate it with the values of the right hand side\n",
    "    res[0] = x[1]\n",
    "    res[1] = -g / l * math.sin(x[0])\n",
    "    # Return it\n",
    "    return res"
   ]
  },
  {
   "cell_type": "markdown",
   "metadata": {},
   "source": [
    "And here is how you can solve the ODE:"
   ]
  },
  {
   "cell_type": "code",
   "execution_count": 35,
   "metadata": {},
   "outputs": [],
   "source": [
    "# Import that Python library\n",
    "import scipy.integrate \n",
    "\n",
    "# The length of the pendulum\n",
    "l = 1.0\n",
    "# The initial conditions\n",
    "x0 = [math.pi/3.0, # Initial angle (radians)\n",
    "      0.0]         # Initial angular velocity (radians/s)\n",
    "# The time span on which you want the solution\n",
    "t_span = [0.0,     # Initial time\n",
    "          10.0]    # Final time\n",
    "# The points on which you want the solution.\n",
    "# Let's pick 200 points between t_span[0] and t_span[1]\n",
    "t_eval = np.linspace(t_span[0], t_span[1], 200)\n",
    "# And now we are ready to solve it:\n",
    "result = scipy.integrate.solve_ivp(rhs, t_span, x0, # These are standard\n",
    "                                   t_eval=t_eval,   # The evaluation times are optional\n",
    "                                   args=(l,)        # These are the arguments that the\n",
    "                                                    # solver needs to pass to the rhs.\n",
    "                                  )"
   ]
  },
  {
   "cell_type": "code",
   "execution_count": 37,
   "metadata": {},
   "outputs": [
    {
     "data": {
      "text/plain": [
       "  message: 'The solver successfully reached the end of the integration interval.'\n",
       "     nfev: 248\n",
       "     njev: 0\n",
       "      nlu: 0\n",
       "      sol: None\n",
       "   status: 0\n",
       "  success: True\n",
       "        t: array([ 0.        ,  0.05025126,  0.10050251,  0.15075377,  0.20100503,\n",
       "        0.25125628,  0.30150754,  0.35175879,  0.40201005,  0.45226131,\n",
       "        0.50251256,  0.55276382,  0.60301508,  0.65326633,  0.70351759,\n",
       "        0.75376884,  0.8040201 ,  0.85427136,  0.90452261,  0.95477387,\n",
       "        1.00502513,  1.05527638,  1.10552764,  1.15577889,  1.20603015,\n",
       "        1.25628141,  1.30653266,  1.35678392,  1.40703518,  1.45728643,\n",
       "        1.50753769,  1.55778894,  1.6080402 ,  1.65829146,  1.70854271,\n",
       "        1.75879397,  1.80904523,  1.85929648,  1.90954774,  1.95979899,\n",
       "        2.01005025,  2.06030151,  2.11055276,  2.16080402,  2.21105528,\n",
       "        2.26130653,  2.31155779,  2.36180905,  2.4120603 ,  2.46231156,\n",
       "        2.51256281,  2.56281407,  2.61306533,  2.66331658,  2.71356784,\n",
       "        2.7638191 ,  2.81407035,  2.86432161,  2.91457286,  2.96482412,\n",
       "        3.01507538,  3.06532663,  3.11557789,  3.16582915,  3.2160804 ,\n",
       "        3.26633166,  3.31658291,  3.36683417,  3.41708543,  3.46733668,\n",
       "        3.51758794,  3.5678392 ,  3.61809045,  3.66834171,  3.71859296,\n",
       "        3.76884422,  3.81909548,  3.86934673,  3.91959799,  3.96984925,\n",
       "        4.0201005 ,  4.07035176,  4.12060302,  4.17085427,  4.22110553,\n",
       "        4.27135678,  4.32160804,  4.3718593 ,  4.42211055,  4.47236181,\n",
       "        4.52261307,  4.57286432,  4.62311558,  4.67336683,  4.72361809,\n",
       "        4.77386935,  4.8241206 ,  4.87437186,  4.92462312,  4.97487437,\n",
       "        5.02512563,  5.07537688,  5.12562814,  5.1758794 ,  5.22613065,\n",
       "        5.27638191,  5.32663317,  5.37688442,  5.42713568,  5.47738693,\n",
       "        5.52763819,  5.57788945,  5.6281407 ,  5.67839196,  5.72864322,\n",
       "        5.77889447,  5.82914573,  5.87939698,  5.92964824,  5.9798995 ,\n",
       "        6.03015075,  6.08040201,  6.13065327,  6.18090452,  6.23115578,\n",
       "        6.28140704,  6.33165829,  6.38190955,  6.4321608 ,  6.48241206,\n",
       "        6.53266332,  6.58291457,  6.63316583,  6.68341709,  6.73366834,\n",
       "        6.7839196 ,  6.83417085,  6.88442211,  6.93467337,  6.98492462,\n",
       "        7.03517588,  7.08542714,  7.13567839,  7.18592965,  7.2361809 ,\n",
       "        7.28643216,  7.33668342,  7.38693467,  7.43718593,  7.48743719,\n",
       "        7.53768844,  7.5879397 ,  7.63819095,  7.68844221,  7.73869347,\n",
       "        7.78894472,  7.83919598,  7.88944724,  7.93969849,  7.98994975,\n",
       "        8.04020101,  8.09045226,  8.14070352,  8.19095477,  8.24120603,\n",
       "        8.29145729,  8.34170854,  8.3919598 ,  8.44221106,  8.49246231,\n",
       "        8.54271357,  8.59296482,  8.64321608,  8.69346734,  8.74371859,\n",
       "        8.79396985,  8.84422111,  8.89447236,  8.94472362,  8.99497487,\n",
       "        9.04522613,  9.09547739,  9.14572864,  9.1959799 ,  9.24623116,\n",
       "        9.29648241,  9.34673367,  9.39698492,  9.44723618,  9.49748744,\n",
       "        9.54773869,  9.59798995,  9.64824121,  9.69849246,  9.74874372,\n",
       "        9.79899497,  9.84924623,  9.89949749,  9.94974874, 10.        ])\n",
       " t_events: None\n",
       "        y: array([[ 1.04719755,  1.03649333,  1.00451373,  0.95168891,  0.87880209,\n",
       "         0.7868676 ,  0.67738143,  0.55236515,  0.41436591,  0.2664564 ,\n",
       "         0.11213164, -0.04493428, -0.20083406, -0.35184483, -0.49445131,\n",
       "        -0.62534579, -0.74162055, -0.84125228, -0.92246986, -0.98391943,\n",
       "        -1.02468104, -1.04426869, -1.0426905 , -1.01991403, -0.9759536 ,\n",
       "        -0.91130181, -0.82693175, -0.72429705, -0.60533185, -0.47245079,\n",
       "        -0.32839694, -0.17643187, -0.02018523,  0.13662819,  0.2902085 ,\n",
       "         0.43667572,  0.57261849,  0.69521113,  0.80197305,  0.89092056,\n",
       "         0.96056688,  1.00994448,  1.03855958,  1.04586758,  1.03163523,\n",
       "         0.99601274,  0.93953373,  0.86311527,  0.76804744,  0.65587256,\n",
       "         0.52868467,  0.38905896,  0.23999234,  0.08490339, -0.07236755,\n",
       "        -0.22765039, -0.37733463, -0.51792688, -0.64628458, -0.75972719,\n",
       "        -0.85603617, -0.93345494, -0.99083374, -1.02760472, -1.04317053,\n",
       "        -1.03726557, -1.00997319, -0.96172571, -0.89329768, -0.80568756,\n",
       "        -0.7002556 , -0.57887758, -0.44394277, -0.29835396, -0.14552748,\n",
       "         0.01078078,  0.16680347,  0.31868755,  0.46287343,  0.59610655,\n",
       "         0.71543729,  0.81840989,  0.90339726,  0.96897059,  1.01408809,\n",
       "         1.03810809,  1.04078897,  1.02230911,  0.98286599,  0.92275726,\n",
       "         0.84277635,  0.74421823,  0.62887943,  0.499058  ,  0.35754702,\n",
       "         0.20742497,  0.05228716, -0.10411247, -0.25803992, -0.40578104,\n",
       "        -0.54367066, -0.66874324, -0.77853132, -0.87094718, -0.94438447,\n",
       "        -0.99771826, -1.03034979, -1.04198426, -1.03222397, -1.00105161,\n",
       "        -0.94886557, -0.87647999, -0.7851247 , -0.67644259, -0.55235616,\n",
       "        -0.41538707, -0.26851085, -0.11500606,  0.04154576,  0.19726001,\n",
       "         0.34795792,  0.49006036,  0.62057791,  0.73672604,  0.83621197,\n",
       "         0.91723471,  0.97848502,  1.01922576,  1.03900859,  1.03741395,\n",
       "         1.01438765,  0.97024782,  0.90568495,  0.82176186,  0.71982801,\n",
       "         0.60164632,  0.46951057,  0.32615951,  0.1747768 ,  0.01899107,\n",
       "        -0.13713775, -0.28980892, -0.4354299 , -0.57062879, -0.69247526,\n",
       "        -0.79848056, -0.88659754, -0.95526781, -1.00377259, -1.03142724,\n",
       "        -1.03778141, -1.02273314, -0.9865289 , -0.92976328, -0.85329044,\n",
       "        -0.7582076 , -0.64610534, -0.51909079, -0.37978767, -0.23133623,\n",
       "        -0.07731504,  0.07859721,  0.23251619,  0.38076821,  0.51993368,\n",
       "         0.64684713,  0.75871094,  0.8536098 ,  0.92989858,  0.98631216,\n",
       "         1.02200262,  1.03653922,  1.0299446 ,  1.00234509,  0.95383233,\n",
       "         0.88496974,  0.79681138,  0.69090207,  0.56927729,  0.43446324,\n",
       "         0.28933198,  0.13720094, -0.01825126, -0.17331475, -0.3242498 ,\n",
       "        -0.46728756, -0.59910049, -0.71702191, -0.81870281, -0.90228228,\n",
       "        -0.96638747, -1.01015489, -1.03318312, -1.03497698, -1.01535569,\n",
       "        -0.97453809, -0.91314261, -0.8321873 , -0.73308869, -0.61754234],\n",
       "       [ 0.        , -0.42559958, -0.84579903, -1.25483112, -1.64649621,\n",
       "        -2.01159466, -2.34057203, -2.62403685, -2.85276054, -3.01767747,\n",
       "        -3.11070989, -3.12796565, -3.06802284, -2.93305636, -2.72896037,\n",
       "        -2.46534825, -2.15402685, -1.80356502, -1.42277766, -1.01996589,\n",
       "        -0.60280645, -0.17835169,  0.24760947,  0.67061535,  1.08505474,\n",
       "         1.48434194,  1.86092238,  2.20627261,  2.51090027,  2.76434415,\n",
       "         2.9571094 ,  3.08093723,  3.12940443,  3.10012983,  2.99477449,\n",
       "         2.81902728,  2.58087702,  2.2891175 ,  1.95315336,  1.58250739,\n",
       "         1.18682053,  0.77561653,  0.35489376, -0.07084083, -0.49631571,\n",
       "        -0.91561943, -1.32220066, -1.70886817, -2.06793399, -2.39158967,\n",
       "        -2.6678101 , -2.8857403 , -3.03702802, -3.11582372, -3.1187806 ,\n",
       "        -3.04531495, -2.89956968, -2.68717841, -2.41529833, -2.09292592,\n",
       "        -1.73089693, -1.34188642, -0.93736005, -0.52029513, -0.09599444,\n",
       "         0.32983779,  0.75132067,  1.16239666,  1.55694102,  1.92819389,\n",
       "         2.2657486 ,  2.55935747,  2.79962535,  2.97800965,  3.08682031,\n",
       "         3.12026744,  3.07725621,  2.95918246,  2.77063174,  2.51942768,\n",
       "         2.21663199,  1.87456549,  1.50088125,  1.10358637,  0.69018583,\n",
       "         0.26757519, -0.15795936, -0.58117122, -0.99710911, -1.39909377,\n",
       "        -1.77966008, -2.13058439, -2.44288455, -2.70681989, -2.91195156,\n",
       "        -3.05001365, -3.1144967 , -3.10175625, -3.01220702, -2.85032292,\n",
       "        -2.62450921, -2.3438572 , -2.01754063, -1.65490432, -1.26503424,\n",
       "        -0.85675756, -0.43824274, -0.01444871,  0.41008548,  0.82990753,\n",
       "         1.23869641,  1.62926237,  1.99354693,  2.32265973,  2.6083786 ,\n",
       "         2.83921917,  3.00469516,  3.09771236,  3.11456862,  3.05495385,\n",
       "         2.92195179,  2.72189712,  2.46264215,  2.15272376,  1.80143406,\n",
       "         1.4188204 ,  1.01568536,  0.60129682,  0.17911345, -0.24590228,\n",
       "        -0.66814877, -1.08146161, -1.47911361, -1.85381483, -2.19845128,\n",
       "        -2.50226632, -2.75376558, -2.94364084, -3.06476993, -3.11221681,\n",
       "        -3.08328184, -2.97981733, -2.80628819, -2.56855382, -2.27461382,\n",
       "        -1.93460797, -1.56081627, -1.16687467, -0.75786915, -0.33829292,\n",
       "         0.08606432,  0.50934346,  0.92561597,  1.3288924 ,  1.7132452 ,\n",
       "         2.06948033,  2.38752668,  2.657859  ,  2.87149788,  3.02000978,\n",
       "         3.09601758,  3.09635311,  3.02052788,  2.8713358 ,  2.65503672,\n",
       "         2.38135642,  2.06248665,  1.70697914,  1.32317895,  0.91907799,\n",
       "         0.5020538 ,  0.07886954, -0.344683  , -0.7639929 , -1.1730897 ,\n",
       "        -1.56508973, -1.9322537 , -2.26598668, -2.5568381 , -2.79450174,\n",
       "        -2.96954459, -3.0746131 , -3.10409841, -3.05640586, -2.93396647,\n",
       "        -2.74323415, -2.4928176 , -2.19151821, -1.84872193, -1.47372834,\n",
       "        -1.07575063, -0.66375333, -0.24368848,  0.17997716,  0.60196977,\n",
       "         1.01626835,  1.41610473,  1.79396361,  2.14158162,  2.44976574]])\n",
       " y_events: None"
      ]
     },
     "execution_count": 37,
     "metadata": {},
     "output_type": "execute_result"
    }
   ],
   "source": [
    "# See the result:\n",
    "result"
   ]
  },
  {
   "cell_type": "code",
   "execution_count": 42,
   "metadata": {},
   "outputs": [],
   "source": [
    "# Grab the times\n",
    "t = result.t\n",
    "# And grap the solution\n",
    "x = result.y"
   ]
  },
  {
   "cell_type": "markdown",
   "metadata": {},
   "source": [
    "+ What is the shape of the solution array ``x``?"
   ]
  },
  {
   "cell_type": "code",
   "execution_count": 43,
   "metadata": {},
   "outputs": [],
   "source": [
    "# your code here"
   ]
  },
  {
   "cell_type": "markdown",
   "metadata": {},
   "source": [
    "*Here explain what each dimension of `x` corresponds to?*"
   ]
  },
  {
   "cell_type": "markdown",
   "metadata": {},
   "source": [
    "+ Using Matplotlib, plot the angle and the angular velocity of the pendulum as functions of time. Make sure you label the horizontal and the vertical axes and that you include a plot legend."
   ]
  },
  {
   "cell_type": "code",
   "execution_count": 44,
   "metadata": {},
   "outputs": [],
   "source": [
    "import matplotlib.pyplot as plt\n",
    "%matplotlib inline\n",
    "# your code here"
   ]
  },
  {
   "cell_type": "markdown",
   "metadata": {},
   "source": [
    "+ Using Matplotlib, plot the trajectory of the pendulum in the phase space (the space of angles and angular velocities). Again, make sure you labeles the horizontal and vertical axes properly."
   ]
  },
  {
   "cell_type": "code",
   "execution_count": 45,
   "metadata": {},
   "outputs": [],
   "source": [
    "# your code here"
   ]
  },
  {
   "cell_type": "markdown",
   "metadata": {},
   "source": [
    "+ Now, let's assume that we have a sensor that gives you a noisy version of the position.\n",
    "I'm going to generate a synthetic dataset for you by adding some noise to the true angle:"
   ]
  },
  {
   "cell_type": "code",
   "execution_count": 50,
   "metadata": {},
   "outputs": [],
   "source": [
    "noisy_angles = y[0, :] + 0.2 * np.random.randn(y.shape[1])"
   ]
  },
  {
   "cell_type": "markdown",
   "metadata": {},
   "source": [
    "Plot the theoretical angle of the pendulum as functions of time as a line along with the noisy \"experimental\" observations as points. Make sure you label the horizontal and the vertical axes and that you include a plot legend."
   ]
  },
  {
   "cell_type": "code",
   "execution_count": 52,
   "metadata": {},
   "outputs": [],
   "source": [
    "# your code here"
   ]
  },
  {
   "cell_type": "markdown",
   "metadata": {},
   "source": [
    "## Problem 8 - Python Data Analysis Library\n",
    "\n",
    "In this problem we are going to use the `pandas` library to analyze a real dataset collected as part of the NSF-funded project [Sociotechnical Systems to Enable Energy-Aware Residential Communities](https://www.energyawarecommunities.org/).\n",
    "You can find the raw dataset here:\n",
    "\n",
    "https://github.com/PurdueMechanicalEngineering/me-297-intro-to-data-science/raw/master/homework/temperature_raw.xlsx\n",
    "\n",
    "Feel free to download it and open it up in Excel.\n",
    "\n",
    "+ The first thing we are going to do in this problem is make this file accessible from this notebook. We could simply use the ``download()`` function that I introduced in the Hands-on Activity 2.3. I will put the code at the very last block for your convenience."
   ]
  },
  {
   "cell_type": "code",
   "execution_count": null,
   "metadata": {},
   "outputs": [],
   "source": [
    "# Make sure you run this on Google Colab\n",
    "import requests\n",
    "import os\n",
    "def download(url, local_filename=None):\n",
    "    \"\"\"\n",
    "    Downloads the file in the ``url`` and saves it in the current working directory.\n",
    "    \"\"\"\n",
    "    data = requests.get(url)\n",
    "    if local_filename is None:\n",
    "        local_filename = os.path.basename(url)\n",
    "    with open(local_filename, 'wb') as fd:\n",
    "        fd.write(data.content)\n",
    "   \n",
    "# The url of the file we want to download\n",
    "url = 'https://github.com/PurdueMechanicalEngineering/me-297-intro-to-data-science/raw/master/homework/temperature_raw.xlsx'\n",
    "download(url)"
   ]
  }
 ],
 "metadata": {
  "kernelspec": {
   "display_name": "Python 3",
   "language": "python",
   "name": "python3"
  },
  "language_info": {
   "codemirror_mode": {
    "name": "ipython",
    "version": 3
   },
   "file_extension": ".py",
   "mimetype": "text/x-python",
   "name": "python",
   "nbconvert_exporter": "python",
   "pygments_lexer": "ipython3",
   "version": "3.7.7"
  }
 },
 "nbformat": 4,
 "nbformat_minor": 4
}
