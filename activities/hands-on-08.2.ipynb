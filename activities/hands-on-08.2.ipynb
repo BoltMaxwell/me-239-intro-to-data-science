{
 "cells": [
  {
   "cell_type": "code",
   "execution_count": null,
   "metadata": {},
   "outputs": [],
   "source": [
    "# Import some basic libraries\n",
    "import numpy as np\n",
    "import matplotlib.pyplot as plt\n",
    "%matplotlib inline\n",
    "import seaborn as sns\n",
    "sns.set_context('paper')"
   ]
  },
  {
   "cell_type": "markdown",
   "metadata": {},
   "source": [
    "# Hands-on Activity 8.2: Credible Intervals\n",
    "\n",
    "## Objectives\n",
    "+ Introduce the concept of credible intervals\n",
    "\n",
    "## Credible Intervals\n",
    "\n",
    "The posterior $p(\\theta|x_{1:N})$ captures everything that we have to say about $\\theta$.\n",
    "Credible intervals are a way to summarize it.\n",
    "A credible interval is basically an interval inside which the parameter $\\theta$ lies with high probability.\n",
    "Specifically, a 95\\% credible interval $(\\ell, u)$ (for lower and upper bounds) for $\\theta$ is such that:\n",
    "$$\n",
    "p(\\ell \\le \\theta \\le u|x_{1:N}) = 0.95.\n",
    "$$\n",
    "Of course, there is not a unique credible interval.\n",
    "You can move $(\\ell, u)$ to the left or to the right in a way that keeps the probability contained in it at 0.95.\n",
    "\n",
    "The *central credible interval* is particularly common.\n",
    "It is defined by solving the following problems\n",
    "$$\n",
    "p(\\theta \\le \\ell | x_{1:N}) = 0.025,\n",
    "$$\n",
    "and\n",
    "$$\n",
    "p(\\theta \\le u | x_{1:N}) = 0.975,\n",
    "$$\n",
    "for $\\ell$ and $u$, respectively.\n",
    "\n",
    "Let's use coin toss example to demonstrate this."
   ]
  },
  {
   "cell_type": "code",
   "execution_count": null,
   "metadata": {},
   "outputs": [],
   "source": [
    "import scipy.stats as st\n",
    "# Take a fake coin which is a little bit biased\n",
    "theta_true = 0.8\n",
    "# This is the random variable corresponding to a coin toss\n",
    "X = st.bernoulli(theta_true)\n",
    "\n",
    "# Sample from it a number of times to generate our data = (x1, ..., xN)\n",
    "N = 5\n",
    "data = X.rvs(size=N)\n",
    "# Now we are ready to calculate the posterior which the Beta we have above\n",
    "alpha = 1.0 + data.sum()\n",
    "beta = 1.0 + N - data.sum()\n",
    "Theta_post = st.beta(alpha, beta)\n",
    "# Now we can plot the posterior PDF for theta\n",
    "fig, ax = plt.subplots(dpi=150)\n",
    "thetas = np.linspace(0, 1, 100)\n",
    "ax.plot([theta_true], [0.0], 'o', markeredgewidth=2, markersize=10, label='True value')\n",
    "ax.plot(thetas, Theta_post.pdf(thetas), label=r'$p(\\theta|x_{1:N})$')\n",
    "ax.set_xlabel(r'$\\theta$')\n",
    "ax.set_ylabel('Probability density')\n",
    "ax.set_title('$N={0:d}$'.format(N))\n",
    "plt.legend(loc='best')"
   ]
  },
  {
   "cell_type": "markdown",
   "metadata": {},
   "source": [
    "Here is how you can find the credible interval with the help of ``scipy.stats``:"
   ]
  },
  {
   "cell_type": "code",
   "execution_count": null,
   "metadata": {},
   "outputs": [],
   "source": [
    "theta_low = Theta_post.ppf(0.025)\n",
    "theta_up = Theta_post.ppf(0.975)\n",
    "print('Theta is in [{0:1.2f}, {1:1.2f}] with 95% probability'.format(theta_low, theta_up))"
   ]
  },
  {
   "cell_type": "markdown",
   "metadata": {},
   "source": [
    "Let's visualize the credible interval:"
   ]
  },
  {
   "cell_type": "code",
   "execution_count": null,
   "metadata": {},
   "outputs": [],
   "source": [
    "# Here is a visualization of this credible interval:\n",
    "fig, ax = plt.subplots(dpi=150)\n",
    "ax.plot([theta_true], [0.0], 'o', markeredgewidth=2, markersize=10, label='True value')\n",
    "ax.plot(thetas, Theta_post.pdf(thetas), label=r'$p(\\theta|x_{1:N})$')\n",
    "thetas_int = np.linspace(theta_low, theta_up, 100)\n",
    "ax.fill_between(thetas_int, np.zeros(thetas_int.shape), Theta_post.pdf(thetas_int), color='red', alpha=0.25)\n",
    "ax.plot([theta_low, theta_up], np.zeros((2,)), 'x', color='red', markeredgewidth=2, label='95% central CI')\n",
    "ax.set_xlabel(r'$\\theta$')\n",
    "ax.set_title('$N={0:d}$'.format(N))\n",
    "plt.legend(loc='best')"
   ]
  },
  {
   "cell_type": "markdown",
   "metadata": {},
   "source": [
    "So, is there another 95\\% credible interval?\n",
    "Yes there is. You can find it by solving thes problem:\n",
    "$$\n",
    "p(\\theta \\le \\ell | x_{1:N}) = 0.01,\n",
    "$$\n",
    "and\n",
    "$$\n",
    "p(\\theta \\le u | x_{1:N}) = 0.96,\n",
    "$$\n",
    "for $\\ell$ and $u$, respectively.\n",
    "Here is what you will find for the coin toss example."
   ]
  },
  {
   "cell_type": "code",
   "execution_count": null,
   "metadata": {},
   "outputs": [],
   "source": [
    "theta_low_o = Theta_post.ppf(0.01)\n",
    "theta_up_o = Theta_post.ppf(0.96)\n",
    "print('Theta is in [{0:1.2f}, {1:1.2f}] with 95% probability'.format(theta_low_o, theta_up_o))"
   ]
  },
  {
   "cell_type": "markdown",
   "metadata": {},
   "source": [
    "And here is how it compares to the previous one:"
   ]
  },
  {
   "cell_type": "code",
   "execution_count": null,
   "metadata": {},
   "outputs": [],
   "source": [
    "fig, ax = plt.subplots(dpi=150)\n",
    "ax.plot([theta_true], [0.0], 'o', markeredgewidth=2, markersize=10, label='True value')\n",
    "ax.plot(thetas, Theta_post.pdf(thetas), label=r'$p(\\theta|x_{1:N})$')\n",
    "thetas_int = np.linspace(theta_low, theta_up, 100)\n",
    "ax.fill_between(thetas_int, np.zeros(thetas_int.shape), Theta_post.pdf(thetas_int), color='red', alpha=0.25)\n",
    "ax.plot([theta_low, theta_up], np.zeros((2,)), 'x', color='red', markeredgewidth=2, label='95% central CI')\n",
    "thetas_int_o = np.linspace(theta_low_o, theta_up_o, 100)\n",
    "ax.fill_between(thetas_int_o, np.zeros(thetas_int_o.shape), Theta_post.pdf(thetas_int_o), color='blue', alpha=0.25)\n",
    "ax.plot([theta_low_o, theta_up_o], np.zeros((2,)), '+', color='blue', markeredgewidth=2, label='Other 95% CI')\n",
    "ax.set_xlabel(r'$\\theta$')\n",
    "ax.set_title('$N={0:d}$'.format(N))\n",
    "plt.legend(loc='best')"
   ]
  },
  {
   "cell_type": "markdown",
   "metadata": {},
   "source": [
    "### Getting Credible Intervals when the Posterior is not Analytically Available\n",
    "Of course many times you do not have the posterior in analytical form and you have to estimate the credible intervals via sampling.\n",
    "We will learn about this in a later lecture.\n",
    "\n",
    "## Questions\n",
    "+ Find the credible interval for $\\theta$ conditioned on the data with 99\\% accuracy.\n",
    "+ How many coin tosses do you have to do, in order to estimate $\\theta$ within an accuracy of $1\\%$ with $99\\%$ probability? Do not try to do this analytically. Just experiment with different values of $N$ for this synthetic example. Getting a number $N$ that works for all possible datasets (assuming that the model is correct), is an interesting problem but it is not trivial."
   ]
  }
 ],
 "metadata": {
  "kernelspec": {
   "display_name": "Python 3",
   "language": "python",
   "name": "python3"
  },
  "language_info": {
   "codemirror_mode": {
    "name": "ipython",
    "version": 3
   },
   "file_extension": ".py",
   "mimetype": "text/x-python",
   "name": "python",
   "nbconvert_exporter": "python",
   "pygments_lexer": "ipython3",
   "version": "3.7.7"
  }
 },
 "nbformat": 4,
 "nbformat_minor": 4
}
