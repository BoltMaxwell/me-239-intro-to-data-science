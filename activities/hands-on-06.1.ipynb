{
 "cells": [
  {
   "cell_type": "code",
   "execution_count": null,
   "metadata": {},
   "outputs": [],
   "source": [
    "import numpy as np\n",
    "import matplotlib.pyplot as plt\n",
    "%matplotlib inline\n",
    "import seaborn as sns\n",
    "sns.set_context('paper')"
   ]
  },
  {
   "cell_type": "markdown",
   "metadata": {},
   "source": [
    "# Hands-On Activity 6.1: Collections of Random Variables\n",
    "\n",
    "## Objectives\n",
    "\n",
    "+ To practice with the joint probability mass function.\n",
    "\n",
    "## Joint probability mass function of two discrete random variables\n",
    "\n",
    "Take two discrete random variabls $X$ and $Y$.\n",
    "Say that $X$ takes $5$ values, $0,1,\\dots,4$, and $Y$ takes $10$ values, $0,1,\\dots,9$.\n",
    "Then, you can think of the joint probability mass function of $X$ and $Y$ as the $5\\times 10$ matrix:\n",
    "$$\n",
    "A_{ij} = p(X=i, Y=j).\n",
    "$$\n",
    "Let's make up such a matrix to play with:"
   ]
  },
  {
   "cell_type": "code",
   "execution_count": null,
   "metadata": {},
   "outputs": [],
   "source": [
    "# This is to make sure that we all get the same results\n",
    "np.random.seed(12345)\n",
    "# First I draw a matrix with random entries in [0,1]\n",
    "A = np.random.rand(5, 10)\n",
    "print(A)"
   ]
  },
  {
   "cell_type": "code",
   "execution_count": null,
   "metadata": {},
   "outputs": [],
   "source": [
    "# And then I scale it so that the sum of all elements is one:\n",
    "A = A / np.sum(A)\n",
    "print('A = ', A)\n",
    "print('Sum of A_ij = {0:1.2f}'.format(np.sum(A)))"
   ]
  },
  {
   "cell_type": "markdown",
   "metadata": {},
   "source": [
    "Now we have a matrix that corresponds to a proper joint probability mass function."
   ]
  },
  {
   "cell_type": "markdown",
   "metadata": {},
   "source": [
    "Okay, this is great we can sample from this. Let's find now the probability mass function of just $X$.\n",
    "Remember that you need to marginalize:\n",
    "$$\n",
    "p(x) = \\sum_{y} p(x,y) = \\sum_{y} A_{xy}.\n",
    "$$\n",
    "This is easy"
   ]
  },
  {
   "cell_type": "code",
   "execution_count": null,
   "metadata": {},
   "outputs": [],
   "source": [
    "p_x = np.sum(A, axis=1) # Axis = 1 tells sum to sum only the second axis\n",
    "print('pmf of just X:', p_x)"
   ]
  },
  {
   "cell_type": "code",
   "execution_count": null,
   "metadata": {},
   "outputs": [],
   "source": [
    "# Verify that this is indeed a pmf:\n",
    "print('sum of p_x = {0:1.2f}'.format(np.sum(p_x)))"
   ]
  },
  {
   "cell_type": "markdown",
   "metadata": {},
   "source": [
    "With this you can easily find the expectation of $X$:"
   ]
  },
  {
   "cell_type": "code",
   "execution_count": null,
   "metadata": {},
   "outputs": [],
   "source": [
    "E_X = np.sum(np.arange(5) * p_x)\n",
    "print('E[X] = {0:1.2f}'.format(E_X))"
   ]
  },
  {
   "cell_type": "markdown",
   "metadata": {},
   "source": [
    "Similarly for the variance of X:"
   ]
  },
  {
   "cell_type": "code",
   "execution_count": null,
   "metadata": {},
   "outputs": [],
   "source": [
    "E_X2 = np.sum(np.arange(5) ** 2 * p_x)\n",
    "V_X = E_X2 - E_X ** 2\n",
    "print('V[X] = {0:1.2f}'.format(V_X))"
   ]
  },
  {
   "cell_type": "markdown",
   "metadata": {},
   "source": [
    "Let's do the same for $Y$:"
   ]
  },
  {
   "cell_type": "code",
   "execution_count": null,
   "metadata": {},
   "outputs": [],
   "source": [
    "p_y = np.sum(A, axis=0)\n",
    "print('pmf of just Y:', p_y)\n",
    "E_Y = np.sum(np.arange(10) * p_y)\n",
    "print('E[Y] = {0:1.2f}'.format(E_Y))\n",
    "E_Y2 = np.sum(np.arange(10) ** 2 * p_y)\n",
    "V_Y = E_Y2 - E_Y ** 2\n",
    "print('V[Y] = {0:1.2f}'.format(V_Y))"
   ]
  },
  {
   "cell_type": "markdown",
   "metadata": {},
   "source": [
    "Alright, we have found all the individual statistics.\n",
    "Let's now find the covariance of the two random variables.\n",
    "Remember the formula:\n",
    "$$\n",
    "\\mathbb{C}[X,Y] = \\sum_{x,y} (x-\\mathbb{E}[X])(y-\\mathbb{E}[Y])p(x,y).\n",
    "$$\n",
    "Here we go:"
   ]
  },
  {
   "cell_type": "code",
   "execution_count": null,
   "metadata": {},
   "outputs": [],
   "source": [
    "# We will loop over all the possible values\n",
    "C_XY = 0.0 # Keeping track of the sum\n",
    "for x in range(5):\n",
    "    for y in range(10):\n",
    "        C_XY += (x - E_X) * (y - E_Y) # the += means add to the left hand side\n",
    "print('C[X, Y] = {0:1.2f}'.format(C_XY))"
   ]
  },
  {
   "cell_type": "markdown",
   "metadata": {},
   "source": [
    "We see that $X$ and $Y$ are negatively correlated.\n",
    "If only we could sample from them to visualize it...\n",
    "How can we do this? We cannot just sample $X$ and then $Y$ without thinking about it.\n",
    "We need to sample $X$ and $Y$ together.\n",
    "Basically, we need to sample a set of index $(i,j)$ with probability $A_{ij}$.\n",
    "This is like sampling from a categorical with $5\\times 10 = 50$ different labels $c_0 = (1,1), c_1 = (1,2), \\dots, c_{49} = (5, 10)$ each with a probability $A_{00}, A_{01}, \\dots, A_{4,9}$.\n",
    "So, let's define this categorical.\n",
    "The categorical will sample a label $c_k$ and then we will turn this label to $i$ and $j$ by:\n",
    "$$\n",
    "i = \\lfloor k / 10 \\rfloor,\n",
    "$$\n",
    "where $\\lfloor \\cdot \\rfloor$ stands for the integer part, and\n",
    "$$\n",
    "j = k \\mod 10,\n",
    "$$\n",
    "where $\\mod 10$ gives the remainder of the division by $10$."
   ]
  },
  {
   "cell_type": "code",
   "execution_count": null,
   "metadata": {},
   "outputs": [],
   "source": [
    "import scipy.stats as st\n",
    "\n",
    "XY = st.rv_discrete('Joinnt XY', values=(range(50), A.flatten())) # A.flatten() is the matrix flattened out as a row\n",
    "\n",
    "# Let's now right a function that samples X and Y using a sample from XY\n",
    "def sample_X_and_Y():\n",
    "    \"\"\"\n",
    "    Samples X and Y once. \n",
    "    \"\"\"\n",
    "    k = XY.rvs()\n",
    "    i = k // 10 # This is integer division\n",
    "    j = k % 10  # This is the remainder\n",
    "    return i, j"
   ]
  },
  {
   "cell_type": "code",
   "execution_count": null,
   "metadata": {},
   "outputs": [],
   "source": [
    "# Let's try it out - take 10 samples\n",
    "for n in range(10):\n",
    "    x, y = sample_X_and_Y()\n",
    "    print('x = {0:d}, y = {0:d}'.format(x, y))"
   ]
  },
  {
   "cell_type": "markdown",
   "metadata": {},
   "source": [
    "Alright, let's now collect all these samples we take so that we can visualize them:"
   ]
  },
  {
   "cell_type": "code",
   "execution_count": null,
   "metadata": {},
   "outputs": [],
   "source": [
    "num_samples = 20\n",
    "x_samples = np.ndarray((num_samples,), dtype=np.int) # An 1D array of integers to be filled in with samples\n",
    "y_samples = np.ndarray((num_samples,), dtype=np.int)\n",
    "for n in range(num_samples):\n",
    "    x, y = sample_X_and_Y()\n",
    "    x_samples[n]= x\n",
    "    y_samples[n] = y"
   ]
  },
  {
   "cell_type": "code",
   "execution_count": null,
   "metadata": {},
   "outputs": [],
   "source": [
    "# Ok, now let's do a scatter plot\n",
    "fig, ax = plt.subplots(dpi=150)\n",
    "ax.scatter(x_samples, y_samples)"
   ]
  },
  {
   "cell_type": "markdown",
   "metadata": {},
   "source": [
    "## Questions\n",
    "\n",
    "+ Write code that finds the variance of $X+Y$.\n",
    "+ Modify your code to find the variance of $3X + 5Y$.\n",
    "+ Write code that finds the expectation of the function $f(X,Y) = XY^3$."
   ]
  },
  {
   "cell_type": "code",
   "execution_count": null,
   "metadata": {},
   "outputs": [],
   "source": []
  }
 ],
 "metadata": {
  "kernelspec": {
   "display_name": "Python 3",
   "language": "python",
   "name": "python3"
  },
  "language_info": {
   "codemirror_mode": {
    "name": "ipython",
    "version": 3
   },
   "file_extension": ".py",
   "mimetype": "text/x-python",
   "name": "python",
   "nbconvert_exporter": "python",
   "pygments_lexer": "ipython3",
   "version": "3.7.7"
  }
 },
 "nbformat": 4,
 "nbformat_minor": 4
}
