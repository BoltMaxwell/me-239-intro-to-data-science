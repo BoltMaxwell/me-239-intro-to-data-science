{
 "cells": [
  {
   "cell_type": "code",
   "execution_count": null,
   "metadata": {},
   "outputs": [],
   "source": [
    "import numpy as np\n",
    "import matplotlib.pyplot as plt\n",
    "%matplotlib inline\n",
    "import seaborn as sns\n",
    "sns.set_context('paper')"
   ]
  },
  {
   "cell_type": "markdown",
   "metadata": {},
   "source": [
    "# Hands-On Activity 5.2: The Gaussian Distribution\n",
    "\n",
    "## Objectives\n",
    "\n",
    "+ To practice with the Gaussian distribution.\n",
    "\n",
    "## The Normal distribution\n",
    "\n",
    "The normal (or Gaussian) distribution is a ubiquitous one.\n",
    "It appears over and over again.\n",
    "There are two explanations as to why it appears so often:\n",
    "\n",
    "+ It is the distribution of maximum uncertainty that matches a known mean and a known variance variance.\n",
    "+ It is the distribution that arises when you add a lot of random variables together.\n",
    "\n",
    "We will learn about both these in the next lectures.\n",
    "\n",
    "We write:\n",
    "$$\n",
    "X | \\mu, \\sigma \\sim N(\\mu, \\sigma),\n",
    "$$\n",
    "and we read \"$X$ conditioned on $\\mu$ and $\\sigma$ follows a normal distribution with mean $\\mu$ and variance $\\sigma^2$.\n",
    "\n",
    "When $\\mu=0$ and $\\sigma^2=1$, we say that we have a *standard normal* distribution.\n",
    "Let\n",
    "$$\n",
    "Z\\sim N(0,1).\n",
    "$$\n",
    "The PDF of the standard normal is:\n",
    "$$\n",
    "\\phi(z) := N(z|0,1) = \\frac{1}{\\sqrt{2\\pi}}\\exp\\left\\{-\\frac{z^2}{2}\\right\\}.\n",
    "$$\n",
    "The CDF of the standard normal is:\n",
    "$$\n",
    "\\Phi(z) := p(Z \\le z) = \\int_{-\\infty}^z \\phi(z')dz',\n",
    "$$\n",
    "is not analytically available.\n",
    "However, there are codes that can compute it."
   ]
  },
  {
   "cell_type": "code",
   "execution_count": null,
   "metadata": {},
   "outputs": [],
   "source": [
    "import scipy.stats as st\n",
    "\n",
    "# Here is how you can get the PDF of the standard normal\n",
    "Z = st.norm()\n",
    "fig, ax = plt.subplots(dpi=150)\n",
    "zs = np.linspace(-4.0, 4.0, 100)\n",
    "ax.plot(zs, Z.pdf(zs), lw=2)\n",
    "ax.set_xlabel('$z$')\n",
    "ax.set_ylabel('$\\phi(z) = N(z|0,1)$');"
   ]
  },
  {
   "cell_type": "code",
   "execution_count": null,
   "metadata": {},
   "outputs": [],
   "source": [
    "# And here is the CDF of the standard normal\n",
    "fig, ax = plt.subplots(dpi=150)\n",
    "ax.plot(zs, Z.cdf(zs), lw=2)\n",
    "ax.set_xlabel('$z$')\n",
    "ax.set_ylabel('$\\Phi(z)$');"
   ]
  },
  {
   "cell_type": "code",
   "execution_count": null,
   "metadata": {},
   "outputs": [],
   "source": [
    "# Here is the expectation:\n",
    "print('E[Z] = {0:1.2f}'.format(Z.expect()))"
   ]
  },
  {
   "cell_type": "code",
   "execution_count": null,
   "metadata": {},
   "outputs": [],
   "source": [
    "# Here is the variance:\n",
    "print('V[Z] = {0:1.2f}'.format(Z.var()))"
   ]
  },
  {
   "cell_type": "code",
   "execution_count": null,
   "metadata": {},
   "outputs": [],
   "source": [
    "# Here is the probability that Z is between two numbers\n",
    "a = 1.0\n",
    "b = 3.0\n",
    "prob_Z_in_ab = Z.cdf(b) - Z.cdf(a)\n",
    "print('p({0:1.2f} <= Z <= {1:1.2f}) = {2:1.2f}'.format(a, b, prob_Z_in_ab))"
   ]
  },
  {
   "cell_type": "code",
   "execution_count": null,
   "metadata": {},
   "outputs": [],
   "source": [
    "# And here is how you can sample\n",
    "Z.rvs(100)"
   ]
  },
  {
   "cell_type": "code",
   "execution_count": null,
   "metadata": {},
   "outputs": [],
   "source": [
    "# And, of course, you can also sample using the functionality of numpy:\n",
    "np.random.randn(100)"
   ]
  },
  {
   "cell_type": "markdown",
   "metadata": {},
   "source": [
    "There are a few more interesting things to know about the standard normal.\n",
    "For, example how can you find a value $z_q$ such that the probability of $Z$ being less that $z_q$ is $q$\\%.\n",
    "Mathematically, you wish to find this:\n",
    "$$\n",
    "\\Phi(z_q) = \\frac{q}{100}.\n",
    "$$\n",
    "The point $z_q$ is called the $q$\\% quantile.\n",
    "To find it, you need to do this:\n",
    "$$\n",
    "z_q = \\Phi^{-1}\\left(\\frac{q}{100}\\right).\n",
    "$$\n",
    "For example, $z_{50}$ is called the median (and it coincides with the expectation here).\n",
    "Another set of interesting quantiles is are $z_{2.5}$ and $z_{97.5}$.\n",
    "Why? Because the probability between them is $95$\\%.\n",
    "Here it is:\n",
    "$$\n",
    "p(z_{2.5} \\le Z \\le z_{97.5}) = \\Phi(z_{97.5}) - \\Phi(z_{2.5}) = \\frac{97.5}{100} - \\frac{2.5}{100} = \\frac{95}{100}.\n",
    "$$\n",
    "Let's find these quantiles and visualize them using the functionality of ``scipy.stats``."
   ]
  },
  {
   "cell_type": "code",
   "execution_count": null,
   "metadata": {},
   "outputs": [],
   "source": [
    "z_025 = Z.ppf(0.025) # ppf = percent point function and it is essentially the inverse of the CDF\n",
    "z_500 = Z.ppf(0.5)\n",
    "z_975 = Z.ppf(0.975)\n",
    "print('2.5% quantile of Z = {0:1.2f}'.format(z_025))\n",
    "print('50% quantile of Z = {0:1.2f}'.format(z_500))\n",
    "print('97.5% quantile of Z = {0:1.2f}'.format(z_975))"
   ]
  },
  {
   "cell_type": "code",
   "execution_count": null,
   "metadata": {},
   "outputs": [],
   "source": [
    "# Here is how much probability there is between the two extreme quantiles:\n",
    "print('p({0:1.2f} <= Z <= {1:1.2f}) = {2:1.2f}'.format(z_025, z_975, Z.cdf(z_975) - Z.cdf(z_025)))"
   ]
  },
  {
   "cell_type": "code",
   "execution_count": null,
   "metadata": {},
   "outputs": [],
   "source": [
    "# Let's also visualize the quantiles with the function\n",
    "fig, ax = plt.subplots(dpi=150)\n",
    "ax.plot(zs, Z.pdf(zs), lw=2)\n",
    "ax.plot(z_025, [0.0], 'o', label='2.5% quantile')\n",
    "ax.plot(z_975, [0.0], 'o', label='97.5% quantile')\n",
    "plt.legend(loc='best')"
   ]
  },
  {
   "cell_type": "markdown",
   "metadata": {},
   "source": [
    "## Question\n",
    "\n",
    "+ Modify the code above so that you find and vizualize $z_{0.001}$ and $z_{9.999}$.\n",
    "+ What is the difference between $z_{9.999}$ and $z_{0.001}$?\n",
    "+ What is the probability that $Z$ is between $z_{9.999}$ and $z_{0.001}$?"
   ]
  },
  {
   "cell_type": "markdown",
   "metadata": {},
   "source": [
    "## Getting any normal from the standard normal\n",
    "Using the standard normal, we can express any normal.\n",
    "It is easy to show that:\n",
    "$$\n",
    "X = \\mu + \\sigma Z,\n",
    "$$\n",
    "follows a $N(\\mu,\\sigma^2)$ if $Z$ follows $N(0,1)$.\n",
    "Note that $\\sigma$ is called the **standard deviation** of $X$ (the standard deviation of a random variable is just the square root of the variance).\n",
    "You must remember this!\n",
    "It is extremely useful and it will appear again and again.\n",
    "For example, using this relationship you can sample from any normal using samples from the standard normal.\n",
    "Let's take some samples exploiting this relationship and then compare the histogram to the true PDF."
   ]
  },
  {
   "cell_type": "code",
   "execution_count": null,
   "metadata": {},
   "outputs": [],
   "source": [
    "mu = 1.0\n",
    "sigma = 0.1\n",
    "X = st.norm(mu, sigma)\n",
    "xs = np.linspace(mu - 6.0 * sigma, mu + 6.0 * sigma, 100)\n",
    "x_samples = mu + sigma * Z.rvs(size=10000)\n",
    "fig, ax = plt.subplots(dpi=150)\n",
    "ax.hist(x_samples, density=True, alpha=0.5)\n",
    "ax.plot(xs, X.pdf(xs))\n",
    "ax.set_xlabel('$x$')\n",
    "ax.set_ylabel('$p(x)$');"
   ]
  },
  {
   "cell_type": "markdown",
   "metadata": {},
   "source": [
    "How can you find the quantiles of this normal? Well, you can simply use the functionality of ``scipy.stats``.\n",
    "As an example, let's find $x_{2.5}$:"
   ]
  },
  {
   "cell_type": "code",
   "execution_count": null,
   "metadata": {},
   "outputs": [],
   "source": [
    "x_025 = X.ppf(0.025)\n",
    "print('2.5% quantile of N({0:1.2f}, {1:1.2f}^2) = {2:1.2f}'.format(mu, sigma, x_025))"
   ]
  },
  {
   "cell_type": "markdown",
   "metadata": {},
   "source": [
    "But we can also find this quantile by exploiting the connection between $X$ and $Z$.\n",
    "The definition of a quantile of $X$ is:\n",
    "$$\n",
    "p(X \\le x_q) = \\frac{q}{100}.\n",
    "$$\n",
    "But, since $X=\\mu+\\sigma Z$, this is equivalent to:\n",
    "$$\n",
    "p(\\mu + \\sigma Z \\le x_q) = \\frac{q}{100},\n",
    "$$\n",
    "which becomes:\n",
    "$$\n",
    "p(\\sigma Z \\le x_q-\\mu) = \\frac{q}{100},\n",
    "$$\n",
    "and then:\n",
    "$$\n",
    "p\\left(Z \\le \\frac{x_q-\\mu}{\\sigma}\\right) = \\frac{q}{100}.\n",
    "$$\n",
    "This is just:\n",
    "$$\n",
    "\\Phi\\left(\\frac{x_q-\\mu}{\\sigma}\\right) = \\frac{q}{100},\n",
    "$$\n",
    "which tells us that $\\frac{x_q-\\mu}{\\sigma}$ is the $q$-quantile of $Z$, i.e.,\n",
    "$$\n",
    "z_q = \\frac{x_q-\\mu}{\\sigma}.\n",
    "$$\n",
    "Solving for $x_q$, we get:\n",
    "$$\n",
    "x_q = \\mu + \\sigma z_q.\n",
    "$$\n",
    "Let's do a sanity check:"
   ]
  },
  {
   "cell_type": "code",
   "execution_count": null,
   "metadata": {},
   "outputs": [],
   "source": [
    "z_025 = Z.ppf(0.025)\n",
    "print('mu + sigma * z_025 = {0:1.2f}'.format(mu + sigma * z_025))"
   ]
  },
  {
   "cell_type": "markdown",
   "metadata": {},
   "source": [
    "which is the same as what we found before. So, let's find also the 97.5% quantile:"
   ]
  },
  {
   "cell_type": "code",
   "execution_count": null,
   "metadata": {},
   "outputs": [],
   "source": [
    "z_975 = Z.ppf(0.975)\n",
    "x_975 = mu + sigma * z_975\n",
    "print('97.5% quantile of N({0:1.2f}, {1:1.2f}^2) = {2:1.2f}'.format(mu, sigma, x_975))"
   ]
  },
  {
   "cell_type": "code",
   "execution_count": null,
   "metadata": {},
   "outputs": [],
   "source": [
    "# Let's visualize the quantiles like we did before:\n",
    "fig, ax = plt.subplots(dpi=150)\n",
    "ax.plot(xs, X.pdf(xs))\n",
    "ax.plot(x_025, 0, 'o', label='2.5% quantile')\n",
    "ax.plot(x_975, 0, 'o', label='2.5% quantile')\n",
    "ax.set_xlabel('$x$')\n",
    "ax.set_ylabel('$p(x)$')\n",
    "plt.legend(loc='best');"
   ]
  },
  {
   "cell_type": "markdown",
   "metadata": {},
   "source": [
    "Now, let's find the distance between $x_{2.5}$ and $x_{97.5}$ in terms of the standard deviation $\\sigma$.\n",
    "We have:\n",
    "$$\n",
    "x_{97.5} - x_{2.5} = \\mu + \\sigma z_{97.5} - \\mu - \\sigma z_{2.5} = \\sigma (z_{97.5} - z_{2.5}).\n",
    "$$\n",
    "This is:"
   ]
  },
  {
   "cell_type": "code",
   "execution_count": null,
   "metadata": {},
   "outputs": [],
   "source": [
    "print('x_975 - x_025 ~= sigma * {0:1.2f}'.format(z_975 - z_025))"
   ]
  },
  {
   "cell_type": "markdown",
   "metadata": {},
   "source": [
    "Okay. So we see that 95% of the probability is contained within a $3.92\\sigma$ interval.\n",
    "This interval is centered at the median (which here happends to be the same as the mode and the expectation of the probability density).\n",
    "The value 3.92 is a little bit awkward, so we are going to round up to 4$\\sigma$ intervals.\n",
    "That is slightly more than 95% of the probability, but it's simpler to remember.\n",
    "So, remember:\n",
    "$$\n",
    "p(\\mu - 2\\sigma < X < \\mu + 2 \\sigma) \\approx 0.95,\n",
    "$$\n",
    "for a normal random variable $N(\\mu,\\sigma^2)$."
   ]
  },
  {
   "cell_type": "markdown",
   "metadata": {},
   "source": [
    "## Questions\n",
    "\n",
    "+ Write code that finds exactly how much probability there is between $\\mu - 2\\sigma$ and $\\mu + 2\\sigma$, i.e., find $p(\\mu - 2\\sigma < X < \\mu + 2 \\sigma)$.\n",
    "+ Modify the code you just written, to find how much probability there is in $\\mu - 3\\sigma$ and $\\mu + 3\\sigma$, i.e., find $p(\\mu - 3\\sigma < X < \\mu + 3 \\sigma)$. This is six-sigmas interval about the mean. Have you ever heard of the [six-sigma process improvement technique](https://en.wikipedia.org/wiki/Six_Sigma)?"
   ]
  }
 ],
 "metadata": {
  "kernelspec": {
   "display_name": "Python 3",
   "language": "python",
   "name": "python3"
  },
  "language_info": {
   "codemirror_mode": {
    "name": "ipython",
    "version": 3
   },
   "file_extension": ".py",
   "mimetype": "text/x-python",
   "name": "python",
   "nbconvert_exporter": "python",
   "pygments_lexer": "ipython3",
   "version": "3.7.7"
  }
 },
 "nbformat": 4,
 "nbformat_minor": 4
}
