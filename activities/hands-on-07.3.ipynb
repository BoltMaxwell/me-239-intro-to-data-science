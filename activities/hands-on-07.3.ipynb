{
 "cells": [
  {
   "cell_type": "code",
   "execution_count": null,
   "metadata": {},
   "outputs": [],
   "source": [
    "import numpy as np\n",
    "import matplotlib.pyplot as plt\n",
    "%matplotlib inline\n",
    "import seaborn as sns\n",
    "sns.set_style('white')"
   ]
  },
  {
   "cell_type": "markdown",
   "metadata": {},
   "source": [
    "# Hands-on Activity 7.3: Sampling Estimates of the Cumulative Distribution Function\n",
    "\n",
    "## Objectives\n",
    "\n",
    "- To estimate cummulative distribution function."
   ]
  },
  {
   "cell_type": "markdown",
   "metadata": {},
   "source": [
    "## Estimating the cumulative distribution function\n",
    "\n",
    "We would like to estimate the cummulative distribution function of $Y=g(X)$:\n",
    "$$\n",
    "F(y) = p(Y\\le y) = p(g(X) \\le y).\n",
    "$$\n",
    "The key is to observe that it can be written as an expectation using the indicator function:\n",
    "$$\n",
    "F(y) = \\mathbb{E}[1_{[-\\infty,y]}(g(X))].\n",
    "$$\n",
    "This suggests that we should consider the random variables $1_{-[\\infty,y]}(g(X_1)), 1_{-[\\infty,y]}(g(X_2)),\\dots$ which are independent and identically distributed.\n",
    "By the strong law of large numbers, we have that:\n",
    "$$\n",
    "\\bar{F}_N(y) = \\frac{1}{N}\\sum_{i=1}^N1_{[-\\infty,y]}(g(X_i))\\rightarrow F(y)\\;\\text{a.s.}.\n",
    "$$\n",
    "This estimate is called the empirical CDF.\n",
    "Note the neat interpretation:\n",
    "$$\n",
    "\\bar{F}_N(y) = \\frac{1}{N}\\sum_{i=1}^N1_{[-\\infty,y]}(g(X_i))=\\frac{\\text{number of }g(X_i) \\le y}{N}.\n",
    "$$\n",
    "\n",
    "### Example: 1D CDF\n",
    "We will continue using the 1D test function of Example 3.4 of Robert & Casella (2004).\n",
    "Assume that $X\\sim U([0,1])$ and pick:\n",
    "$$\n",
    "g(x) = \\left(\\cos(50x) + \\sin(20x)\\right)^2.\n",
    "$$"
   ]
  },
  {
   "cell_type": "code",
   "execution_count": null,
   "metadata": {},
   "outputs": [],
   "source": [
    "# define the function here:\n",
    "g = lambda x: (np.cos(50 * x) + np.sin(20 * x)) ** 2\n",
    "\n",
    "# We will not write code for the empirical CDF as it is already\n",
    "# https://www.statsmodels.org/stable/generated/statsmodels.distributions.empirical_distribution.ECDF.html\n",
    "from statsmodels.distributions.empirical_distribution import ECDF\n",
    "\n",
    "# Maximum number of samples to take\n",
    "max_n = 10000 \n",
    "# Generate samples from X\n",
    "x_samples = np.random.rand(max_n)\n",
    "# Get the corresponding Y's\n",
    "y_samples = g(x_samples)\n",
    "\n",
    "# Build ECDF with 10 samples\n",
    "ecdf_10 = ECDF(y_samples[:10])\n",
    "\n",
    "# Build ECDF with 50 samples\n",
    "ecdf_100 = ECDF(y_samples[:100])\n",
    "\n",
    "# Build ECDF with all samples\n",
    "ecdf_all = ECDF(y_samples)\n",
    "\n",
    "# Make the plot\n",
    "fig, ax = plt.subplots(dpi=150)\n",
    "# Points on which to evaluate the CDF's\n",
    "ys = np.linspace(y_samples.min(), y_samples.max(), 100)\n",
    "ax.plot(ys, ecdf_10(ys), '.-', label='$N=10$')\n",
    "ax.plot(ys, ecdf_100(ys), '--', label='$N=100$')\n",
    "ax.plot(ys, ecdf_all(ys), label='$N={0:d}$'.format(max_n))\n",
    "ax.set_xlabel('$y$')\n",
    "ax.set_ylabel(r'$\\bar{F}_N(y)$')\n",
    "plt.legend(loc='best');"
   ]
  },
  {
   "cell_type": "markdown",
   "metadata": {},
   "source": [
    "Let's now use the empirical CDF to find the probability of that $Y$ takes specific values.\n",
    "For example, let's find the probability that $Y$ is between $1$ and $3$.\n",
    "We have:\n",
    "$$\n",
    "p(1\\le Y\\le 3) = F(3) - F(1) \\approx \\bar{F}_N(3) - \\bar{F}_N(1).\n",
    "$$\n",
    "Let's calculate this numerically for various choices of $N$:"
   ]
  },
  {
   "cell_type": "code",
   "execution_count": null,
   "metadata": {},
   "outputs": [],
   "source": [
    "# Estimate of the probability with 10 samples:\n",
    "p_Y_in_set_10 = ecdf_10(3.0) - ecdf_10(1.0)\n",
    "print('N = {0:d}:\\t\\tp(1 <= Y <= 3) ~= {1:1.2f}'.format(10, p_Y_in_set_10))\n",
    "# Estimate of the probability with 100 samples:\n",
    "p_Y_in_set_100 = ecdf_100(3.0) - ecdf_100(1.0)\n",
    "print('N = {0:d}:\\tp(1 <= Y <= 3) ~= {1:1.2f}'.format(100, p_Y_in_set_100))\n",
    "# Estimate of the probability with all 10000 samples:\n",
    "p_Y_in_set_all = ecdf_all(3.0) - ecdf_all(1.0)\n",
    "print('N = {0:d}:\\tp(1 <= Y <= 3) ~= {1:1.2f}'.format(10000, p_Y_in_set_all))"
   ]
  },
  {
   "cell_type": "markdown",
   "metadata": {},
   "source": [
    "### Questions\n",
    "\n",
    "+ Why is the empirical CDF for small $N$ discontinuous?\n",
    "+ How do you know how many samples you need? For now, just think about it on your own. We will give the answer in lecture 10.\n",
    "+ Use the best empirical CDF we have constructed so far to find the probability of that $Y$ is in $[0.5, 2]$ or $[3,4]$, i.e., find $p(0.5 \\le Y \\le 2\\;\\text{or}\\;3\\le Y \\le 4)$."
   ]
  }
 ],
 "metadata": {
  "kernelspec": {
   "display_name": "Python 3",
   "language": "python",
   "name": "python3"
  },
  "language_info": {
   "codemirror_mode": {
    "name": "ipython",
    "version": 3
   },
   "file_extension": ".py",
   "mimetype": "text/x-python",
   "name": "python",
   "nbconvert_exporter": "python",
   "pygments_lexer": "ipython3",
   "version": "3.7.7"
  }
 },
 "nbformat": 4,
 "nbformat_minor": 4
}
