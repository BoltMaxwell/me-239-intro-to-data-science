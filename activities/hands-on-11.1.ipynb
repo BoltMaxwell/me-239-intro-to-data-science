{
 "cells": [
  {
   "cell_type": "code",
   "execution_count": null,
   "metadata": {},
   "outputs": [],
   "source": [
    "# Import some basic libraries\n",
    "import numpy as np\n",
    "import matplotlib.pyplot as plt\n",
    "%matplotlib inline\n",
    "import seaborn as sns\n",
    "sns.set_context('paper')\n",
    "import requests\n",
    "import os\n",
    "def download(url, local_filename=None):\n",
    "    \"\"\"\n",
    "    Downloads the file in the ``url`` and saves it in the current working directory.\n",
    "    \"\"\"\n",
    "    data = requests.get(url)\n",
    "    if local_filename is None:\n",
    "        local_filename = os.path.basename(url)\n",
    "    with open(local_filename, 'wb') as fd:\n",
    "        fd.write(data.content)"
   ]
  },
  {
   "cell_type": "markdown",
   "metadata": {},
   "source": [
    "# Hands-on Activity 11.1: Logistic regression with one variable\n",
    "\n",
    "## Objectives\n",
    "\n",
    "+ To demonstrate logistic regression with one variable\n",
    "\n",
    "## High melting explosives sensitivity\n",
    "\n",
    "[High Melting Explosives](https://en.wikipedia.org/wiki/HMX) (HMX) have applications as detonators of nuclear weapons and as solid rocket propellants.\n",
    "We will use logistic regression to build the probability that a specific HMX block explodes when dropped from a given height.\n",
    "To this end, we will use data from a 1987 Los Alamos Report\n",
    "(L. Smith, “Los Alamos National Laboratory explosives orientation course: Sensitivity and sensitivity tests to impact, friction, spark and shock,” Los Alamos National Lab, NM (USA), Tech. Rep., 1987).\n",
    "Let's download the raw data and load them.\n",
    "We will use the [Python Data Analysis Library](https://pandas.pydata.org/):"
   ]
  },
  {
   "cell_type": "code",
   "execution_count": null,
   "metadata": {},
   "outputs": [],
   "source": [
    "# Download the data file:\n",
    "url = 'https://raw.githubusercontent.com/PurdueMechanicalEngineering/me-297-intro-to-data-science/master/activities/hmx_data.csv'\n",
    "download(url)\n",
    "# Load the data using pandas\n",
    "import pandas as pd\n",
    "data = pd.read_csv('hmx_data.csv')"
   ]
  },
  {
   "cell_type": "markdown",
   "metadata": {},
   "source": [
    "Each row of the data is a different experiment.\n",
    "There are two columns:\n",
    "\n",
    "+ First column is **Height**: From what height (in cm) was the specimen dropped from.\n",
    "+ Second column is **Result**: Did the specimen explode (E) or not (N)?\n",
    "\n",
    "Here is how to see the raw data:"
   ]
  },
  {
   "cell_type": "code",
   "execution_count": null,
   "metadata": {},
   "outputs": [],
   "source": [
    "data"
   ]
  },
  {
   "cell_type": "markdown",
   "metadata": {},
   "source": [
    "Let's encode the labels as $1$ and and $0$ instead of E and N.\n",
    "Let's do this below:"
   ]
  },
  {
   "cell_type": "code",
   "execution_count": null,
   "metadata": {},
   "outputs": [],
   "source": [
    "# Extract data for regression\n",
    "# Heights as a numpy array\n",
    "x = data['Height'].values\n",
    "# The labels must be 0 and 1\n",
    "# We will use a dictionary to indicate our labeling\n",
    "label_coding = {'E': 1, 'N': 0}\n",
    "y = np.array([label_coding[r] for r in data['Result']])\n",
    "data['y'] = y\n",
    "data"
   ]
  },
  {
   "cell_type": "markdown",
   "metadata": {},
   "source": [
    "Let's visualize the data.\n",
    "Notice that lots of observations fall on top of each other."
   ]
  },
  {
   "cell_type": "code",
   "execution_count": null,
   "metadata": {},
   "outputs": [],
   "source": [
    "fig, ax = plt.subplots(dpi=150)\n",
    "ax.plot(x, y, 'o')\n",
    "ax.set_xlabel('$x$ (Height in cm)')\n",
    "ax.set_ylabel('Result ($0=N; 1=E$)');"
   ]
  },
  {
   "cell_type": "markdown",
   "metadata": {},
   "source": [
    "Let's train a logistic regression model with just a linear feature using scikit-learn:"
   ]
  },
  {
   "cell_type": "code",
   "execution_count": null,
   "metadata": {},
   "outputs": [],
   "source": [
    "from sklearn.linear_model import LogisticRegression\n",
    "# Make the design matrix\n",
    "X = np.hstack([np.ones((x.shape[0], 1)), x[:, None]])\n",
    "# Train the model (penalty = 'none' means that we do not add a prior on the weights)\n",
    "# we are effectively just maximizing the likelihood of the data\n",
    "model = LogisticRegression(penalty='none', fit_intercept=False).fit(X, y)"
   ]
  },
  {
   "cell_type": "markdown",
   "metadata": {},
   "source": [
    "Here is how you can get the trained weights of the model:"
   ]
  },
  {
   "cell_type": "code",
   "execution_count": null,
   "metadata": {},
   "outputs": [],
   "source": [
    "model.coef_"
   ]
  },
  {
   "cell_type": "markdown",
   "metadata": {},
   "source": [
    "And here is how you can make predictions at some arbitrary heights:"
   ]
  },
  {
   "cell_type": "code",
   "execution_count": null,
   "metadata": {},
   "outputs": [],
   "source": [
    "x_predict = np.array([10.0, 20.0, 30.0, 40.0, 50.0])\n",
    "X_predict = np.hstack([np.ones((x_predict.shape[0], 1)), x_predict[:, None]])\n",
    "predictions = model.predict_proba(X_predict)\n",
    "predictions"
   ]
  },
  {
   "cell_type": "markdown",
   "metadata": {},
   "source": [
    "Note that the model gave us back the probability of each class.\n",
    "If you wanted, you could ask for the class of maximum probability for each prediction input:"
   ]
  },
  {
   "cell_type": "code",
   "execution_count": null,
   "metadata": {},
   "outputs": [],
   "source": [
    "model.predict(X_predict)"
   ]
  },
  {
   "cell_type": "markdown",
   "metadata": {},
   "source": [
    "To visualize the predictions of the model as a function of the height, we can do this:"
   ]
  },
  {
   "cell_type": "code",
   "execution_count": null,
   "metadata": {},
   "outputs": [],
   "source": [
    "fig, ax = plt.subplots(dpi=150)\n",
    "xx = np.linspace(20.0, 45.0, 100)\n",
    "XX = np.hstack([np.ones((xx.shape[0], 1)), xx[:, None]])\n",
    "predictions_xx = model.predict_proba(XX)\n",
    "ax.plot(xx, predictions_xx[:, 0], label='Probability of N')\n",
    "ax.plot(xx, predictions_xx[:, 1], label='Probability of E')\n",
    "ax.set_xlabel('$x$ (cm)')\n",
    "ax.set_ylabel('Probability')\n",
    "plt.legend(loc='best');"
   ]
  },
  {
   "cell_type": "markdown",
   "metadata": {},
   "source": [
    "### Questions\n",
    "\n",
    "+ What is the probability of explosition when the height becomes very small?\n",
    "+ What is the probability of explosition when the height becomes very large?\n",
    "+ At what height it is particularly difficult to predict what is going to happen?"
   ]
  }
 ],
 "metadata": {
  "kernelspec": {
   "display_name": "Python 3",
   "language": "python",
   "name": "python3"
  },
  "language_info": {
   "codemirror_mode": {
    "name": "ipython",
    "version": 3
   },
   "file_extension": ".py",
   "mimetype": "text/x-python",
   "name": "python",
   "nbconvert_exporter": "python",
   "pygments_lexer": "ipython3",
   "version": "3.7.7"
  }
 },
 "nbformat": 4,
 "nbformat_minor": 4
}
