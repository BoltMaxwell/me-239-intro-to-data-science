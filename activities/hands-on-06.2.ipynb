{
 "cells": [
  {
   "cell_type": "code",
   "execution_count": null,
   "metadata": {},
   "outputs": [],
   "source": [
    "# Import some basic libraries\n",
    "import numpy as np\n",
    "import matplotlib.pyplot as plt\n",
    "%matplotlib inline\n",
    "import seaborn as sns\n",
    "sns.set_context('paper')"
   ]
  },
  {
   "cell_type": "markdown",
   "metadata": {},
   "source": [
    "# Hands-On Activity 6.2: The Multivariate Normal - Diagonal Covariance Case\n",
    "\n",
    "## Objectives\n",
    "\n",
    "+ To introduce the multivariate normal with diagonal covariance.\n",
    "\n",
    "## The multivariate mormal - Diagonal covariance case\n",
    "\n",
    "Consider the $N$-dimensional multivariate normal:\n",
    "$$\n",
    "\\mathbf{X} \\sim N\\left(\\boldsymbol{\\mu}, \\operatorname{diag}\\left(\\sigma_1^2,\\dots,\\sigma_N^2\\right)\\right),\n",
    "$$\n",
    "where $\\boldsymbol{\\mu}$ is a $N$-dimensional vector, $\\sigma_i$ are positive numbers.\n",
    "This is known as the multivariate normal with diagonal covariance.\n",
    "All the components of the vector are independent.\n",
    "Let's first visualize the joint PDF of this random vector in 2D.\n",
    "We are going to plot its contours."
   ]
  },
  {
   "cell_type": "code",
   "execution_count": null,
   "metadata": {},
   "outputs": [],
   "source": [
    "import scipy.stats as st\n",
    "# The mean vector\n",
    "mu = [1.0, 2.0]\n",
    "# The variance of each component\n",
    "sigma2 = [1.0, 1.0]\n",
    "# The covariance matrix of the multivariate normal\n",
    "Sigma = np.diag(sigma2)\n",
    "# Create the random variable using scipy.stats\n",
    "X = st.multivariate_normal(mean=mu, cov=Sigma)"
   ]
  },
  {
   "cell_type": "code",
   "execution_count": null,
   "metadata": {},
   "outputs": [],
   "source": [
    "# Here is how you can sample from this\n",
    "X.rvs()"
   ]
  },
  {
   "cell_type": "code",
   "execution_count": null,
   "metadata": {},
   "outputs": [],
   "source": [
    "# Here is how you can evaluate the PDF at a point\n",
    "X.pdf([0.5, -1.0])"
   ]
  },
  {
   "cell_type": "code",
   "execution_count": null,
   "metadata": {},
   "outputs": [],
   "source": [
    "# Now, let's do the contour\n",
    "# We need a grid of x1 and x2 points. This takes three steps\n",
    "# Points along x1 dimension\n",
    "x1 = np.linspace(-3, 5, 64)\n",
    "# Points along x2 dimension\n",
    "x2 = np.linspace(-3, 5, 64)\n",
    "# Create grid\n",
    "X1, X2 = np.meshgrid(x1, x2)\n",
    "# These are 64 x 64 matrices\n",
    "print(X1.shape)"
   ]
  },
  {
   "cell_type": "code",
   "execution_count": null,
   "metadata": {},
   "outputs": [],
   "source": [
    "# And they give you these points in x1-x2 space:\n",
    "fig, ax = plt.subplots(dpi=150)\n",
    "ax.plot(X1.flatten(), X2.flatten(), '.', markersize=2)"
   ]
  },
  {
   "cell_type": "code",
   "execution_count": null,
   "metadata": {},
   "outputs": [],
   "source": [
    "# We are going to evaluate the PDF on all these locations.\n",
    "# This is done as follows:\n",
    "# First, create a 64^2 x 2 array of all the grid points by flattening X1 and X2 and then\n",
    "# joining together their columns:\n",
    "X_flat = np.hstack([X1.flatten()[:, None], X2.flatten()[:, None]])\n",
    "print(X_flat.shape)"
   ]
  },
  {
   "cell_type": "code",
   "execution_count": null,
   "metadata": {},
   "outputs": [],
   "source": [
    "# Second, evaluate the PDF at all these points\n",
    "z = X.pdf(X_flat)\n",
    "print(z.shape)\n",
    "print(z)"
   ]
  },
  {
   "cell_type": "code",
   "execution_count": null,
   "metadata": {},
   "outputs": [],
   "source": [
    "# Third, reshape z to 64 x 64\n",
    "Z = z.reshape((64, 64))\n",
    "print(Z.shape)"
   ]
  },
  {
   "cell_type": "code",
   "execution_count": null,
   "metadata": {},
   "outputs": [],
   "source": [
    "# Fourth, plot the contours\n",
    "fig, ax = plt.subplots(dpi=150)\n",
    "c = ax.contour(X1, X2, Z)\n",
    "ax.set_xlabel('$x_1$')\n",
    "ax.set_ylabel('$x_2$')\n",
    "plt.colorbar(c)"
   ]
  },
  {
   "cell_type": "code",
   "execution_count": null,
   "metadata": {},
   "outputs": [],
   "source": [
    "# Now, let's take some samples of X and add them in this figure\n",
    "num_samples = 500\n",
    "x_samples = X.rvs(size=num_samples)\n",
    "ax.plot(x_samples[:, 0], x_samples[:, 1], '.', markersize=2)\n",
    "# Mark the mean in red as well\n",
    "ax.plot(X.mean[0], X.mean[1], 'ro')\n",
    "fig"
   ]
  },
  {
   "cell_type": "markdown",
   "metadata": {},
   "source": [
    "## Questions\n",
    "\n",
    "+ Rerun the steps above after moving $\\boldsymbol{\\mu}$ to $(0, 1)$. Observe how the contours of the PDF move.\n",
    "+ Rerun the steps above for $\\sigma_1^2 = 0.1$ and $\\sigma_2^2 = 1$. Observe how the contours of the PDF change.\n",
    "+ Rerun the steps above for $\\sigma_1^2 = 1$ and $\\sigma_2^2 = 0.1$. Observe how the contours of the PDF change.\n",
    "+ Rerun the steps above for $\\sigma_1^2 = 1$ and $\\sigma_2^2 = 0.01$. Observe how the contours of the PDF change."
   ]
  },
  {
   "cell_type": "markdown",
   "metadata": {},
   "source": [
    "## Sampling the multivariate normal with diagonal covariance using the standard normal\n",
    "\n",
    "In the lecture we showed that if $\\mathbf{Z}$ is an $N$-dimensional standard normal:\n",
    "$$\n",
    "\\mathbf{Z} \\sim N(0,\\mathbf{I}),\n",
    "$$\n",
    "where $\\mathbf{I}$ is the $N\\times N$ unit matrix (all zeros except the diagonal which is all ones), then the random vector:\n",
    "$$\n",
    "\\mathbf{X} = \\boldsymbol{\\mu} + \\operatorname{diag}\\left(\\sigma_1, \\dots,\\sigma_N\\right)\\mathbf{Z},\n",
    "$$\n",
    "is a multivariate normal:\n",
    "$$\n",
    "\\mathbf{X} \\sim N\\left(\\boldsymbol{\\mu}, \\operatorname{diag}\\left(\\sigma_1^2,\\dots,\\sigma_N^2\\right)\\right).\n",
    "$$\n",
    "Let's verify this by creating samples of $\\mathbf{X}$ using samples of $\\mathbf{Z}$ and then plotting these samples together with the contours of $N\\left(\\boldsymbol{\\mu}, \\operatorname{diag}\\left(\\sigma_1^2,\\dots,\\sigma_N^2\\right)\\right)$."
   ]
  },
  {
   "cell_type": "code",
   "execution_count": null,
   "metadata": {},
   "outputs": [],
   "source": [
    "# The multivariate normal that you want to study:\n",
    "# The mean vector\n",
    "mu = [1.0, 2.0]\n",
    "# The variance of each component\n",
    "sigma2 = [1.0, 1.0]\n",
    "# The covariance matrix of the multivariate normal\n",
    "Sigma = np.diag(sigma2)\n",
    "# Create the random variable using scipy.stats\n",
    "X = st.multivariate_normal(mean=mu, cov=Sigma)\n",
    "\n",
    "# The number of samples you want to take:\n",
    "num_samples = 500\n",
    "# Here is how you can sample from Z:\n",
    "z_samples = np.random.randn(num_samples, 2)\n",
    "# Transforms these to samples of X \n",
    "# (2-vector + (N x 2)-matrix * (2 x 2)-matrix = 2-vector + (N x 2)-matrix)\n",
    "# = (N x 2)-matrix\n",
    "x_samples = mu + np.dot(z_samples, np.sqrt(Sigma)) # Please pay attention to the sqrt(Sigma)\n",
    "# NOT just Sigma.\n",
    "\n",
    "# Visualize everything\n",
    "fig, ax = plt.subplots(dpi=150)\n",
    "# The contours\n",
    "# Points along x1 dimension\n",
    "x1 = np.linspace(-3, 5, 64)\n",
    "# Points along x2 dimension\n",
    "x2 = np.linspace(-3, 5, 64)\n",
    "# Create grid\n",
    "X1, X2 = np.meshgrid(x1, x2)\n",
    "# Flattened values of grid points\n",
    "X_flat = np.hstack([X1.flatten()[:, None], X2.flatten()[:, None]])\n",
    "# PDF values\n",
    "pdf_X_flat = X.pdf(X_flat).reshape(X1.shape)\n",
    "# Plot contours\n",
    "c = ax.contour(X1, X2, pdf_X_flat)\n",
    "# Plot the samples\n",
    "ax.plot(x_samples[:, 0], x_samples[:, 1], '.', markersize=2)\n",
    "# Plot the mean\n",
    "ax.plot(X.mean[0], X.mean[1], 'ro');"
   ]
  },
  {
   "cell_type": "markdown",
   "metadata": {},
   "source": [
    "## Questions\n",
    "\n",
    "+ Rerun the steps above changing $\\boldsymbol{\\mu}, \\sigma_1^2$ and $\\sigma_2^2$ and observe that you are always getting the correct samples."
   ]
  }
 ],
 "metadata": {
  "kernelspec": {
   "display_name": "Python 3",
   "language": "python",
   "name": "python3"
  },
  "language_info": {
   "codemirror_mode": {
    "name": "ipython",
    "version": 3
   },
   "file_extension": ".py",
   "mimetype": "text/x-python",
   "name": "python",
   "nbconvert_exporter": "python",
   "pygments_lexer": "ipython3",
   "version": "3.7.7"
  }
 },
 "nbformat": 4,
 "nbformat_minor": 4
}
