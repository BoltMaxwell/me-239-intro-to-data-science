{
 "cells": [
  {
   "cell_type": "code",
   "execution_count": null,
   "metadata": {},
   "outputs": [],
   "source": [
    "# Import some basic libraries\n",
    "import numpy as np\n",
    "import matplotlib.pyplot as plt\n",
    "%matplotlib inline\n",
    "import seaborn as sns\n",
    "sns.set_context('paper')"
   ]
  },
  {
   "cell_type": "markdown",
   "metadata": {},
   "source": [
    "# Hands-On Activity 5.1: The Uniform Distribution\n",
    "\n",
    "## Objectives\n",
    "\n",
    "+ To practice with the uniform distribution.\n",
    "\n",
    "## The uniform distribution\n",
    "\n",
    "The uniform distribution is the most common continuous distribution.\n",
    "It corresponds to a random variable that is equally likely to take a value within a given interval.\n",
    "We write:\n",
    "$$\n",
    "X\\sim U([0,1]),\n",
    "$$\n",
    "and we read $X$ follows a uniform distribution taking values in $[0,1]$.\n",
    "\n",
    "The probability density of the uniform is constant in $[0,1]$ and zero outside it.\n",
    "We have:\n",
    "$$\n",
    "p(x) := U(x|[0,1]) := \\begin{cases}\n",
    "1,&\\;0\\le x \\le 1,\\\\\n",
    "0,&\\;\\text{otherwise}.\n",
    "\\end{cases}\n",
    "$$\n",
    "\n",
    "The cumulative distribution funciton of the uniform is for $x in [0,1]$:\n",
    "$$\n",
    "F(x) = p(X \\le x) = \\int_0^x p(u) du = \\int_0^x du = x.\n",
    "$$\n",
    "Obviously, we have $F(x) = 0$ for $x < 0$ and $F(x) = 1$ for $x > 1$.\n",
    "\n",
    "The probability that $X$ takes values in $[a,b]$ for $a < b$ in $[0,1]$ is:\n",
    "$$\n",
    "p(a \\le X \\le b) = F(b) - F(a) = b - a.\n",
    "$$\n",
    "\n",
    "The expectation of the uniform is:\n",
    "$$\n",
    "\\mathbb{E}[X] = \\int_0^1 xdx = \\frac{1}{2}.\n",
    "$$\n",
    "\n",
    "The variance of the uniform is:\n",
    "$$\n",
    "\\mathbb{V}[X] = \\mathbb{E}[X^2] - \\left(\\mathbb{E}[X]\\right)^2 = \\frac{1}{3} - \\frac{1}{4} = \\frac{1}{12}.\n",
    "$$"
   ]
  },
  {
   "cell_type": "code",
   "execution_count": null,
   "metadata": {},
   "outputs": [],
   "source": [
    "# Let's create a uniform random variable using scipy\n",
    "import scipy.stats as st\n",
    "X = st.uniform()\n",
    "\n",
    "# Let's plot the PDF and the CDF\n",
    "# PDF first\n",
    "fig, ax = plt.subplots(dpi=150)\n",
    "xs = np.linspace(-0.1, 1.1, 100)\n",
    "ax.plot(xs, X.pdf(xs), lw=2)\n",
    "ax.set_xlabel('$x$')\n",
    "ax.set_ylabel('$p(x)$')"
   ]
  },
  {
   "cell_type": "code",
   "execution_count": null,
   "metadata": {},
   "outputs": [],
   "source": [
    "# Now the CDF\n",
    "fig, ax = plt.subplots(dpi=150)\n",
    "ax.plot(xs, X.cdf(xs), lw=2)\n",
    "ax.set_xlabel('$x$')\n",
    "ax.set_ylabel('$F(x)$')"
   ]
  },
  {
   "cell_type": "code",
   "execution_count": null,
   "metadata": {},
   "outputs": [],
   "source": [
    "# The expectation is:\n",
    "print('E[X] = {0:1.2f}'.format(X.expect()))"
   ]
  },
  {
   "cell_type": "code",
   "execution_count": null,
   "metadata": {},
   "outputs": [],
   "source": [
    "# The variance is:\n",
    "print('V[X] = {0:1.2f}'.format(X.var()))"
   ]
  },
  {
   "cell_type": "code",
   "execution_count": null,
   "metadata": {},
   "outputs": [],
   "source": [
    "# Here is how you can sample from the uniform\n",
    "X.rvs(size=100)"
   ]
  },
  {
   "cell_type": "code",
   "execution_count": null,
   "metadata": {},
   "outputs": [],
   "source": [
    "# An alternative way is to use the functionality of numpy\n",
    "np.random.rand(100)"
   ]
  },
  {
   "cell_type": "code",
   "execution_count": null,
   "metadata": {},
   "outputs": [],
   "source": [
    "# Finally, let's find the probability that X is between two numbers:\n",
    "# Left bound\n",
    "a = -1.0\n",
    "# Right bound\n",
    "b = 0.3\n",
    "# The answer is:\n",
    "prob_X_is_in_ab = X.cdf(b) - X.cdf(a)\n",
    "print('p({0:1.2f} <= X <= {1:1.2f}) = {2:1.2f}'.format(a, b, prob_X_is_in_ab))"
   ]
  },
  {
   "cell_type": "markdown",
   "metadata": {},
   "source": [
    "## The uniform distribution over an arbitrary interval $[a, b]$\n",
    "\n",
    "The uniform distribution can also be defined over an arbitrary interval $[a,b]$.\n",
    "We write:\n",
    "$$\n",
    "X \\sim U([a, b]).\n",
    "$$\n",
    "\n",
    "The PDF of this random variable is:\n",
    "$$\n",
    "p(x) = \\begin{cases}\n",
    "c,&\\;x\\in[a,b],\\\\\n",
    "0,&\\;\\text{otherwise},\n",
    "\\end{cases}\n",
    "$$\n",
    "where $c$ is a positive constant.\n",
    "This simply tells us that the probability density of finding $X$ in $[a,b]$ is something positive and that the probability density of findinig outside is exactly zero.\n",
    "The positive constant $c$ is determined by imposing the normalization condition:\n",
    "$$\n",
    "\\int_{-\\infty}^{+\\infty}p(x)dx = 1.\n",
    "$$\n",
    "This gives:\n",
    "$$\n",
    "1 = \\int_{-\\infty}^{+\\infty}p(x)dx = \\int_a^bc dx = c \\int_a^bdx = c (b-a).\n",
    "$$\n",
    "From this we get:\n",
    "$$\n",
    "c = \\frac{1}{b - a},\n",
    "$$\n",
    "and we can now write:\n",
    "$$\n",
    "p(x) = \\begin{cases}\n",
    "\\frac{1}{b-a},&x \\in [a, b],\\\\\n",
    "0,&\\;\\text{otherwise},\n",
    "\\end{cases}\n",
    "$$\n",
    "From the PDF, we can now find the CDF for $x \\in [a,b]$:\n",
    "$$\n",
    "F(x) = p(X\\le x) = \\int_{-\\infty}^x p(u)du = \\int_a^x \\frac{1}{b-a}du = \\frac{1}{b-a}\\int_a^xdu = \\frac{x-a}{b-a}.\n",
    "$$\n",
    "The expectation is:\n",
    "$$\n",
    "\\mathbb{E}[X] = \\frac{1}{2}(a+b),\n",
    "$$\n",
    "and the variance is:\n",
    "$$\n",
    "\\mathbb{V}[X] = \\frac{1}{12}(b-a)^2.\n",
    "$$\n",
    "\n",
    "This is how you can do this using ``scipy.stats``:"
   ]
  },
  {
   "cell_type": "code",
   "execution_count": null,
   "metadata": {},
   "outputs": [],
   "source": [
    "# The left bound\n",
    "a = -2.0\n",
    "# The right bound\n",
    "b = 5.0\n",
    "X = st.uniform(loc=a, scale=(b-a))\n",
    "\n",
    "# Here is the PDF\n",
    "fig, ax = plt.subplots(dpi=150)\n",
    "xs = np.linspace(a - 0.1, b + 0.1, 100)\n",
    "ax.plot(xs, X.pdf(xs), lw=2)\n",
    "ax.set_xlabel('$x$')\n",
    "ax.set_ylabel('$p(x)$')"
   ]
  },
  {
   "cell_type": "code",
   "execution_count": null,
   "metadata": {},
   "outputs": [],
   "source": [
    "# And here is the CDF\n",
    "fig, ax = plt.subplots(dpi=150)\n",
    "xs = np.linspace(a - 0.1, b + 0.1, 100)\n",
    "ax.plot(xs, X.cdf(xs), lw=2)\n",
    "ax.set_xlabel('$x$')\n",
    "ax.set_ylabel('$F(x)$')"
   ]
  },
  {
   "cell_type": "code",
   "execution_count": null,
   "metadata": {},
   "outputs": [],
   "source": [
    "# The expectation is:\n",
    "print('E[X] = {0:1.2f}'.format(X.expect()))"
   ]
  },
  {
   "cell_type": "code",
   "execution_count": null,
   "metadata": {},
   "outputs": [],
   "source": [
    "# The variance is:\n",
    "print('V[X] = {0:1.2f}'.format(X.var()))"
   ]
  },
  {
   "cell_type": "code",
   "execution_count": null,
   "metadata": {},
   "outputs": [],
   "source": [
    "# And here are a few random samples\n",
    "X.rvs(size=100)"
   ]
  },
  {
   "cell_type": "markdown",
   "metadata": {},
   "source": [
    "There is another way to obtain samples from $U([a,b])$ that uses only samples from $U([0,1])$.\n",
    "Here is how. Let $Z$ be a standard uniform random variable:\n",
    "$$\n",
    "Z\\sim U([0,1]).\n",
    "$$\n",
    "Then define the random variable:\n",
    "$$\n",
    "X = a + (b-a) Z.\n",
    "$$\n",
    "Then, $X\\sim U([a,b])$. Why? Well, let's just show that the CDF of $X$ has the right form:\n",
    "$$\n",
    "p(X \\le x) = p(a + (b-a)Z \\le x) = p((b-a)Z \\le x - a) = p\\left(Z \\le \\frac{x-a}{b-a}\\right) = \\frac{x-a}{b-a},\n",
    "$$\n",
    "where the last step follows from the fact that the CDF of $Z$ is simply: $p(Z \\le z) = z$.\n",
    "Equipped with this result, we see that we can sample $X$ by sampling $Z$ and then scaling it appropriately (by the way this is what ``scipy.stats`` is doing internally). Here it is using ``numpy.random.rand`` to sample in $[0,1]$:"
   ]
  },
  {
   "cell_type": "code",
   "execution_count": null,
   "metadata": {},
   "outputs": [],
   "source": [
    "x_samples = a + (b - a) * np.random.rand(1000)\n",
    "print(x_samples)"
   ]
  },
  {
   "cell_type": "code",
   "execution_count": null,
   "metadata": {},
   "outputs": [],
   "source": [
    "# Let's also do the histogram of x_samples to make sure they are distributed the right way\n",
    "fig, ax = plt.subplots(dpi=150)\n",
    "ax.hist(x_samples, density=True, alpha=0.25, label='Histogram')\n",
    "ax.plot(xs, X.pdf(xs), lw=2, label='True PDF')\n",
    "ax.set_xlabel('$x$')\n",
    "ax.set_ylabel('$p(x)$')"
   ]
  },
  {
   "cell_type": "markdown",
   "metadata": {},
   "source": [
    "## Questions\n",
    "\n",
    "+ Repeat the code above so that the random variable is $U([1, 10])$."
   ]
  }
 ],
 "metadata": {
  "kernelspec": {
   "display_name": "Python 3",
   "language": "python",
   "name": "python3"
  },
  "language_info": {
   "codemirror_mode": {
    "name": "ipython",
    "version": 3
   },
   "file_extension": ".py",
   "mimetype": "text/x-python",
   "name": "python",
   "nbconvert_exporter": "python",
   "pygments_lexer": "ipython3",
   "version": "3.7.7"
  }
 },
 "nbformat": 4,
 "nbformat_minor": 4
}
